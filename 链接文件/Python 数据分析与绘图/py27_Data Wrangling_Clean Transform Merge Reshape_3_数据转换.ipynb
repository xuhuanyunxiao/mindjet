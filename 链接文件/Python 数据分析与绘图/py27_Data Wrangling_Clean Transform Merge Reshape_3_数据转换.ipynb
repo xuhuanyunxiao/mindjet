{
 "cells": [
  {
   "cell_type": "markdown",
   "metadata": {},
   "source": [
    "## 三、数据转换\n",
    "* 以上是数据的重排，还有就是过滤、清理以及转换"
   ]
  },
  {
   "cell_type": "markdown",
   "metadata": {},
   "source": [
    "### 1 移除重复数据"
   ]
  },
  {
   "cell_type": "code",
   "execution_count": 60,
   "metadata": {
    "collapsed": false
   },
   "outputs": [
    {
     "name": "stdout",
     "output_type": "stream",
     "text": [
      "    k1  k2\n",
      "0  one   1\n",
      "1  one   1\n",
      "2  one   2\n",
      "3  two   3\n",
      "4  two   3\n",
      "5  two   4\n",
      "6  two   4\n",
      "0    False\n",
      "1     True\n",
      "2    False\n",
      "3    False\n",
      "4     True\n",
      "5    False\n",
      "6     True\n",
      "dtype: bool\n",
      "    k1  k2\n",
      "0  one   1\n",
      "2  one   2\n",
      "3  two   3\n",
      "5  two   4\n"
     ]
    }
   ],
   "source": [
    "data = DataFrame({'k1': ['one'] * 3 + ['two'] * 4,'k2': [1, 1, 2, 3, 3, 4, 4]})\n",
    "\n",
    "print data\n",
    "print data.duplicated() # 返回一个布尔型Series，表示各行是否是重复行\n",
    "print data.drop_duplicates() # 返回移除了重复行的DataFrame"
   ]
  },
  {
   "cell_type": "code",
   "execution_count": 62,
   "metadata": {
    "collapsed": false
   },
   "outputs": [
    {
     "name": "stdout",
     "output_type": "stream",
     "text": [
      "    k1  k2  v1\n",
      "0  one   1   0\n",
      "1  one   1   1\n",
      "2  one   2   2\n",
      "3  two   3   3\n",
      "4  two   3   4\n",
      "5  two   4   5\n",
      "6  two   4   6\n",
      "    k1  k2  v1\n",
      "0  one   1   0\n",
      "3  two   3   3\n",
      "    k1  k2  v1\n",
      "1  one   1   1\n",
      "2  one   2   2\n",
      "4  two   3   4\n",
      "6  two   4   6\n"
     ]
    }
   ],
   "source": [
    "data['v1'] = range(7)\n",
    "\n",
    "print data\n",
    "print data.drop_duplicates(['k1']) # 根据k1列过滤重复项\n",
    "print data.drop_duplicates(['k1', 'k2'], keep='last') # 默认保留第一个出现的值，而keep='last'则保留最后一个"
   ]
  },
  {
   "cell_type": "markdown",
   "metadata": {},
   "source": [
    "### 2 利用函数或映射进行数据转换"
   ]
  },
  {
   "cell_type": "code",
   "execution_count": 64,
   "metadata": {
    "collapsed": false
   },
   "outputs": [
    {
     "name": "stdout",
     "output_type": "stream",
     "text": [
      "          food  ounces\n",
      "0        bacon     4.0\n",
      "1  pulled pork     3.0\n",
      "2        bacon    12.0\n",
      "3     Pastrami     6.0\n",
      "4  corned beef     7.5\n",
      "5        Bacon     8.0\n",
      "6     pastrami     3.0\n",
      "7    honey ham     5.0\n",
      "8     nova lox     6.0\n"
     ]
    }
   ],
   "source": [
    "data = DataFrame({'food': ['bacon', 'pulled pork', 'bacon', 'Pastrami',\n",
    " 'corned beef', 'Bacon', 'pastrami', 'honey ham','nova lox'],\n",
    " 'ounces': [4, 3, 12, 6, 7.5, 8, 3, 5, 6]})\n",
    "\n",
    "print data"
   ]
  },
  {
   "cell_type": "code",
   "execution_count": 66,
   "metadata": {
    "collapsed": false
   },
   "outputs": [
    {
     "name": "stdout",
     "output_type": "stream",
     "text": [
      "{'pastrami': 'cow', 'bacon': 'pig', 'pulled pork': 'pig', 'corned beef': 'cow', 'nova lox': 'salmon', 'honey ham': 'pig'}           food  ounces  animal\n",
      "0        bacon     4.0     pig\n",
      "1  pulled pork     3.0     pig\n",
      "2        bacon    12.0     pig\n",
      "3     Pastrami     6.0     cow\n",
      "4  corned beef     7.5     cow\n",
      "5        Bacon     8.0     pig\n",
      "6     pastrami     3.0     cow\n",
      "7    honey ham     5.0     pig\n",
      "8     nova lox     6.0  salmon\n"
     ]
    }
   ],
   "source": [
    "meat_to_animal = {\n",
    "'bacon': 'pig',\n",
    "'pulled pork': 'pig',\n",
    "'pastrami': 'cow',\n",
    "'corned beef': 'cow',\n",
    "'honey ham': 'pig',\n",
    "'nova lox': 'salmon'\n",
    "}\n",
    "data['animal'] = data['food'].map(str.lower).map(meat_to_animal) # 使大小写一致\n",
    "\n",
    "print meat_to_animal,\n",
    "print data"
   ]
  },
  {
   "cell_type": "code",
   "execution_count": 67,
   "metadata": {
    "collapsed": false
   },
   "outputs": [
    {
     "name": "stdout",
     "output_type": "stream",
     "text": [
      "          food  ounces  animal\n",
      "0        bacon     4.0     pig\n",
      "1  pulled pork     3.0     pig\n",
      "2        bacon    12.0     pig\n",
      "3     Pastrami     6.0     cow\n",
      "4  corned beef     7.5     cow\n",
      "5        Bacon     8.0     pig\n",
      "6     pastrami     3.0     cow\n",
      "7    honey ham     5.0     pig\n",
      "8     nova lox     6.0  salmon\n"
     ]
    }
   ],
   "source": [
    "data['food'].map(lambda x: meat_to_animal[x.lower()]) # map 可实现元素及转换以及其他数据清理工作\n",
    "print data"
   ]
  },
  {
   "cell_type": "markdown",
   "metadata": {
    "collapsed": true
   },
   "source": [
    "### 3 替换值"
   ]
  },
  {
   "cell_type": "code",
   "execution_count": 68,
   "metadata": {
    "collapsed": false
   },
   "outputs": [
    {
     "data": {
      "image/png": "[encoded data removed]",
      "text/plain": [
       "<IPython.core.display.Image object>"
      ]
     },
     "execution_count": 68,
     "metadata": {},
     "output_type": "execute_result"
    }
   ],
   "source": [
    "Image(filename=\"picture\\Replacing Values.png\")"
   ]
  },
  {
   "cell_type": "code",
   "execution_count": 69,
   "metadata": {
    "collapsed": false
   },
   "outputs": [
    {
     "name": "stdout",
     "output_type": "stream",
     "text": [
      "0       1\n",
      "1    -999\n",
      "2       2\n",
      "3    -999\n",
      "4   -1000\n",
      "5       3\n",
      "dtype: float64\n",
      "0       1\n",
      "1     NaN\n",
      "2       2\n",
      "3     NaN\n",
      "4   -1000\n",
      "5       3\n",
      "dtype: float64\n",
      "0     1\n",
      "1   NaN\n",
      "2     2\n",
      "3   NaN\n",
      "4   NaN\n",
      "5     3\n",
      "dtype: float64\n",
      "0     1\n",
      "1   NaN\n",
      "2     2\n",
      "3   NaN\n",
      "4     0\n",
      "5     3\n",
      "dtype: float64\n",
      "0     1\n",
      "1   NaN\n",
      "2     2\n",
      "3   NaN\n",
      "4     0\n",
      "5     3\n",
      "dtype: float64\n"
     ]
    }
   ],
   "source": [
    "data = Series([1., -999., 2., -999., -1000., 3.])\n",
    "\n",
    "print data\n",
    "\n",
    "print data.replace(-999, np.nan) # 将表示缺失值的-999，替换成pandas可识别的NA值\n",
    "print data.replace([-999, -1000], np.nan) # 一次替换多个值\n",
    "print data.replace([-999, -1000], [np.nan, 0]) # 不同的值不同的替换\n",
    "print data.replace({-999: np.nan, -1000: 0}) # 参数为字典"
   ]
  },
  {
   "cell_type": "markdown",
   "metadata": {
    "collapsed": true
   },
   "source": [
    "### 4 重命名轴索引"
   ]
  },
  {
   "cell_type": "code",
   "execution_count": 80,
   "metadata": {
    "collapsed": false
   },
   "outputs": [
    {
     "name": "stdout",
     "output_type": "stream",
     "text": [
      "          one  two  three  four\n",
      "Ohio        0    1      2     3\n",
      "Colorado    4    5      6     7\n",
      "New York    8    9     10    11\n",
      "\n",
      "['OHIO' 'COLORADO' 'NEW YORK']\n",
      "          one  two  three  four\n",
      "OHIO        0    1      2     3\n",
      "COLORADO    4    5      6     7\n",
      "NEW YORK    8    9     10    11\n",
      "          one  two  three  four\n",
      "OHIO        0    1      2     3\n",
      "COLORADO    4    5      6     7\n",
      "NEW YORK    8    9     10    11\n"
     ]
    }
   ],
   "source": [
    "data = DataFrame(np.arange(12).reshape((3, 4)),\n",
    "                 index=['Ohio', 'Colorado', 'New York'],columns=['one', 'two', 'three', 'four'])\n",
    "\n",
    "print data\n",
    "print\n",
    "print data.index.map(str.upper) # 轴标签map方法\n",
    "\n",
    "data.index = data.index.map(str.upper) # 赋值给index，从而修改DataFrame\n",
    "print data\n",
    "\n",
    "data.rename(index=str.title, columns=str.upper) # 创建数据集的转换版（而不是修改原始数据）\n",
    "print data"
   ]
  },
  {
   "cell_type": "code",
   "execution_count": 85,
   "metadata": {
    "collapsed": false
   },
   "outputs": [
    {
     "name": "stdout",
     "output_type": "stream",
     "text": [
      "          one  two  three  four\n",
      "INDIANA     0    1      2     3\n",
      "COLORADO    4    5      6     7\n",
      "NEW YORK    8    9     10    11\n",
      "          one  two  three  four\n",
      "INDIANA     0    1      2     3\n",
      "COLORADO    4    5      6     7\n",
      "NEW YORK    8    9     10    11\n"
     ]
    }
   ],
   "source": [
    "data.rename(index={'OHIO': 'INDIANA'},columns={'three': 'peekaboo'}) # 部分轴标签的更新\n",
    "print data\n",
    "\n",
    "_ = data.rename(index={'OHIO': 'INDIANA'}, inplace=True) # 修改某个数据集\n",
    "print data"
   ]
  },
  {
   "cell_type": "markdown",
   "metadata": {},
   "source": [
    "### 5 离散化和面元划分"
   ]
  },
  {
   "cell_type": "code",
   "execution_count": 94,
   "metadata": {
    "collapsed": false
   },
   "outputs": [
    {
     "name": "stdout",
     "output_type": "stream",
     "text": [
      "[(18, 25], (18, 25], (18, 25], (25, 35], (18, 25], ..., (25, 35], (60, 100], (35, 60], (35, 60], (25, 35]]\n",
      "Length: 12\n",
      "Categories (4, object): [(18, 25] < (25, 35] < (35, 60] < (60, 100]]\n",
      "[0 0 0 1 0 0 2 1 3 2 2 1]\n",
      "Index([u'(18, 25]', u'(25, 35]', u'(35, 60]', u'(60, 100]'], dtype='object')\n",
      "(18, 25]     5\n",
      "(35, 60]     3\n",
      "(25, 35]     3\n",
      "(60, 100]    1\n",
      "dtype: int64\n",
      "[[18, 26), [18, 26), [18, 26), [26, 36), [18, 26), ..., [26, 36), [61, 100), [36, 61), [36, 61), [26, 36)]\n",
      "Length: 12\n",
      "Categories (4, object): [[18, 26) < [26, 36) < [36, 61) < [61, 100)]\n"
     ]
    }
   ],
   "source": [
    "ages = [20, 22, 25, 27, 21, 23, 37, 31, 61, 45, 41, 32]\n",
    "bins = [18, 25, 35, 60, 100]\n",
    "cats = pd.cut(ages, bins)\n",
    "\n",
    "print cats\n",
    "print cats.codes # 为年龄数据进行标号\n",
    "print cats.categories # 分类名称  \n",
    "print pd.value_counts(cats) # 方括号表示闭端（包括），圆括号表示开端\n",
    "\n",
    "print pd.cut(ages, [18, 26, 36, 61, 100], right=False) # 开闭段可通过right=False修改"
   ]
  },
  {
   "cell_type": "code",
   "execution_count": 92,
   "metadata": {
    "collapsed": false
   },
   "outputs": [
    {
     "name": "stdout",
     "output_type": "stream",
     "text": [
      "[Youth, Youth, Youth, YoungAdult, Youth, ..., YoungAdult, Senior, MiddleAged, MiddleAged, YoungAdult]\n",
      "Length: 12\n",
      "Categories (4, object): [Youth < YoungAdult < MiddleAged < Senior]\n"
     ]
    }
   ],
   "source": [
    "group_names = ['Youth', 'YoungAdult', 'MiddleAged', 'Senior'] \n",
    "print pd.cut(ages, bins, labels=group_names) # 设置分类名称"
   ]
  },
  {
   "cell_type": "code",
   "execution_count": 95,
   "metadata": {
    "collapsed": false
   },
   "outputs": [
    {
     "name": "stdout",
     "output_type": "stream",
     "text": [
      "[ 0.49310815  0.1331151   0.49398694  0.98552286  0.63745101  0.18213464\n",
      "  0.38735829  0.79714897  0.03395903  0.92748342  0.28816111  0.95941326\n",
      "  0.99310002  0.11728799  0.91049949  0.44507195  0.09913783  0.22878695\n",
      "  0.61604196  0.16277338]\n",
      "[(0.27, 0.51], (0.033, 0.27], (0.27, 0.51], (0.75, 0.99], (0.51, 0.75], ..., (0.27, 0.51], (0.033, 0.27], (0.033, 0.27], (0.51, 0.75], (0.033, 0.27]]\n",
      "Length: 20\n",
      "Categories (4, object): [(0.033, 0.27] < (0.27, 0.51] < (0.51, 0.75] < (0.75, 0.99]]\n"
     ]
    }
   ],
   "source": [
    "data = np.random.rand(20)\n",
    "\n",
    "print data\n",
    "print pd.cut(data, 4, precision=2) # 传入数量，则会根据数据的最大值和最小值计算等长划分"
   ]
  },
  {
   "cell_type": "code",
   "execution_count": 98,
   "metadata": {
    "collapsed": false,
    "scrolled": true
   },
   "outputs": [
    {
     "name": "stdout",
     "output_type": "stream",
     "text": [
      "[(0.755, 3.338], (0.755, 3.338], (-0.599, 0.0743], (-0.599, 0.0743], [-3.0163, -0.599], ..., (0.0743, 0.755], (-0.599, 0.0743], (0.755, 3.338], (-0.599, 0.0743], (-0.599, 0.0743]]\n",
      "Length: 1000\n",
      "Categories (4, object): [[-3.0163, -0.599] < (-0.599, 0.0743] < (0.0743, 0.755] < (0.755, 3.338]]\n",
      "(0.755, 3.338]       250\n",
      "(0.0743, 0.755]      250\n",
      "(-0.599, 0.0743]     250\n",
      "[-3.0163, -0.599]    250\n",
      "dtype: int64\n",
      "[(1.338, 3.338], (0.0743, 1.338], (-1.319, 0.0743], (-1.319, 0.0743], [-3.0163, -1.319], ..., (0.0743, 1.338], (-1.319, 0.0743], (0.0743, 1.338], (-1.319, 0.0743], (-1.319, 0.0743]]\n",
      "Length: 1000\n",
      "Categories (4, object): [[-3.0163, -1.319] < (-1.319, 0.0743] < (0.0743, 1.338] < (1.338, 3.338]]\n"
     ]
    }
   ],
   "source": [
    "data = np.random.randn(1000) # Normally distributed\n",
    "cats = pd.qcut(data, 4) # 根据样本分位数进行划分\n",
    "\n",
    "# print data\n",
    "print cats\n",
    "print pd.value_counts(cats)\n",
    "print pd.qcut(data, [0, 0.1, 0.5, 0.9, 1.]) # 自定义分位数"
   ]
  },
  {
   "cell_type": "markdown",
   "metadata": {
    "collapsed": true
   },
   "source": [
    "### 6 检测和过滤异常值"
   ]
  },
  {
   "cell_type": "code",
   "execution_count": 103,
   "metadata": {
    "collapsed": false
   },
   "outputs": [
    {
     "name": "stdout",
     "output_type": "stream",
     "text": [
      "                 0            1            2            3\n",
      "count  1000.000000  1000.000000  1000.000000  1000.000000\n",
      "mean     -0.067684     0.067924     0.025598    -0.002298\n",
      "std       0.998035     0.992106     1.006835     0.996794\n",
      "min      -3.428254    -3.548824    -3.184377    -3.745356\n",
      "25%      -0.774890    -0.591841    -0.641675    -0.644144\n",
      "50%      -0.116401     0.101143     0.002073    -0.013611\n",
      "75%       0.616366     0.780282     0.680391     0.654328\n",
      "max       3.366626     2.653656     3.260383     3.927528\n"
     ]
    }
   ],
   "source": [
    "np.random.seed(12345)\n",
    "\n",
    "data = DataFrame(np.random.randn(1000, 4))\n",
    "print data.describe()"
   ]
  },
  {
   "cell_type": "code",
   "execution_count": 104,
   "metadata": {
    "collapsed": false
   },
   "outputs": [
    {
     "name": "stdout",
     "output_type": "stream",
     "text": [
      "97     3.927528\n",
      "305   -3.399312\n",
      "400   -3.745356\n",
      "Name: 3, dtype: float64\n",
      "            0         1         2         3\n",
      "5   -0.539741  0.476985  3.248944 -1.021228\n",
      "97  -0.774363  0.552936  0.106061  3.927528\n",
      "102 -0.655054 -0.565230  3.176873  0.959533\n",
      "305 -2.315555  0.457246 -0.025907 -3.399312\n",
      "324  0.050188  1.951312  3.260383  0.963301\n",
      "400  0.146326  0.508391 -0.196713 -3.745356\n",
      "499 -0.293333 -0.242459 -3.056990  1.918403\n",
      "523 -3.428254 -0.296336 -0.439938 -0.867165\n",
      "586  0.275144  1.179227 -3.184377  1.369891\n",
      "808 -0.362528 -3.548824  1.553205 -2.186301\n",
      "900  3.366626 -2.372214  0.851010  1.332846\n",
      "                 0            1            2            3\n",
      "count  1000.000000  1000.000000  1000.000000  1000.000000\n",
      "mean     -0.067623     0.068473     0.025153    -0.002081\n",
      "std       0.995485     0.990253     1.003977     0.989736\n",
      "min      -3.000000    -3.000000    -3.000000    -3.000000\n",
      "25%      -0.774890    -0.591841    -0.641675    -0.644144\n",
      "50%      -0.116401     0.101143     0.002073    -0.013611\n",
      "75%       0.616366     0.780282     0.680391     0.654328\n",
      "max       3.000000     2.653656     3.000000     3.000000\n"
     ]
    }
   ],
   "source": [
    "col = data[3]\n",
    "print col[np.abs(col) > 3] # 绝对值大于3\n",
    "\n",
    "print data[(np.abs(data) > 3).any(1)] # 选出全部含有“超过3或-3的值”的行\n",
    "\n",
    "data[np.abs(data) > 3] = np.sign(data) * 3 # 限制在区间-3 到3\n",
    "print data.describe()"
   ]
  },
  {
   "cell_type": "markdown",
   "metadata": {},
   "source": [
    "### 7 排列和随机采样"
   ]
  },
  {
   "cell_type": "code",
   "execution_count": 106,
   "metadata": {
    "collapsed": false
   },
   "outputs": [
    {
     "name": "stdout",
     "output_type": "stream",
     "text": [
      "[0 3 4 2 1]\n",
      "    0   1   2   3\n",
      "0   0   1   2   3\n",
      "1   4   5   6   7\n",
      "2   8   9  10  11\n",
      "3  12  13  14  15\n",
      "4  16  17  18  19\n",
      "    0   1   2   3\n",
      "0   0   1   2   3\n",
      "3  12  13  14  15\n",
      "4  16  17  18  19\n",
      "2   8   9  10  11\n",
      "1   4   5   6   7\n",
      "    0   1   2   3\n",
      "3  12  13  14  15\n",
      "4  16  17  18  19\n",
      "2   8   9  10  11\n"
     ]
    }
   ],
   "source": [
    "df = DataFrame(np.arange(5 * 4).reshape(5, 4))\n",
    "sampler = np.random.permutation(5) # 随机重排序\n",
    "\n",
    "print sampler\n",
    "print df\n",
    "print df.take(sampler) # 用替换方式选取随机子集\n",
    "\n",
    "print df.take(np.random.permutation(len(df))[:3])"
   ]
  },
  {
   "cell_type": "code",
   "execution_count": 107,
   "metadata": {
    "collapsed": false
   },
   "outputs": [
    {
     "name": "stdout",
     "output_type": "stream",
     "text": [
      "[ 5  7 -1  6  4]\n",
      "[3 2 1 2 0 4 4 4 3 4]\n",
      "[ 6 -1  7 -1  5  4  4  4  6  4]\n"
     ]
    }
   ],
   "source": [
    "bag = np.array([5, 7, -1, 6, 4])\n",
    "sampler = np.random.randint(0, len(bag), size=10) # 随机整数\n",
    "draws = bag.take(sampler)\n",
    "\n",
    "print bag\n",
    "print sampler\n",
    "print draws"
   ]
  },
  {
   "cell_type": "markdown",
   "metadata": {},
   "source": [
    "### 8 计算指标/哑变量"
   ]
  },
  {
   "cell_type": "code",
   "execution_count": 108,
   "metadata": {
    "collapsed": false
   },
   "outputs": [
    {
     "data": {
      "image/png": "[encoded data removed]",
      "text/plain": [
       "<IPython.core.display.Image object>"
      ]
     },
     "execution_count": 108,
     "metadata": {},
     "output_type": "execute_result"
    }
   ],
   "source": [
    "Image(filename=\"picture\\Computing Indicator or Dummy Variables.png\")"
   ]
  },
  {
   "cell_type": "code",
   "execution_count": 112,
   "metadata": {
    "collapsed": false
   },
   "outputs": [
    {
     "name": "stdout",
     "output_type": "stream",
     "text": [
      "   data1 key\n",
      "0      0   b\n",
      "1      1   b\n",
      "2      2   a\n",
      "3      3   c\n",
      "4      4   a\n",
      "5      5   b\n",
      "   a  b  c\n",
      "0  0  1  0\n",
      "1  0  1  0\n",
      "2  1  0  0\n",
      "3  0  0  1\n",
      "4  1  0  0\n",
      "5  0  1  0\n",
      "   key_a  key_b  key_c\n",
      "0      0      1      0\n",
      "1      0      1      0\n",
      "2      1      0      0\n",
      "3      0      0      1\n",
      "4      1      0      0\n",
      "5      0      1      0\n",
      "   data1  key_a  key_b  key_c\n",
      "0      0      0      1      0\n",
      "1      1      0      1      0\n",
      "2      2      1      0      0\n",
      "3      3      0      0      1\n",
      "4      4      1      0      0\n",
      "5      5      0      1      0\n"
     ]
    }
   ],
   "source": [
    "df = DataFrame({'key': ['b', 'b', 'a', 'c', 'a', 'b'],'data1': range(6)})\n",
    "\n",
    "print df\n",
    "print pd.get_dummies(df['key'])\n",
    "\n",
    "dummies = pd.get_dummies(df['key'], prefix='key') # 列名加前缀\n",
    "df_with_dummy = df[['data1']].join(dummies)\n",
    "\n",
    "print dummies\n",
    "print df_with_dummy"
   ]
  },
  {
   "cell_type": "code",
   "execution_count": null,
   "metadata": {
    "collapsed": false
   },
   "outputs": [],
   "source": [
    "mnames = ['movie_id', 'title', 'genres']\n",
    "movies = pd.read_table('ch07/movies.dat', sep='::', header=None,names=mnames)\n",
    "movies[:10]"
   ]
  },
  {
   "cell_type": "code",
   "execution_count": null,
   "metadata": {
    "collapsed": true
   },
   "outputs": [],
   "source": [
    "genre_iter = (set(x.split('|')) for x in movies.genres)\n",
    "\n",
    "genres = sorted(set.union(*genre_iter))\n",
    "dummies = DataFrame(np.zeros((len(movies), len(genres))), columns=genres)\n",
    "for i, gen in enumerate(movies.genres):\n",
    "    dummies.ix[i, gen.split('|')] = 1\n",
    "    \n",
    "movies_windic = movies.join(dummies.add_prefix('Genre_'))\n",
    "movies_windic.ix[0]"
   ]
  },
  {
   "cell_type": "code",
   "execution_count": 115,
   "metadata": {
    "collapsed": false
   },
   "outputs": [
    {
     "name": "stdout",
     "output_type": "stream",
     "text": [
      "[ 0.44740483  0.32410284  0.92360521  0.51923163  0.53105727  0.17332397\n",
      "  0.34263784  0.1083731   0.9276808   0.18307257]\n",
      "[0, 0.2, 0.4, 0.6, 0.8, 1]\n",
      "   (0, 0.2]  (0.2, 0.4]  (0.4, 0.6]  (0.6, 0.8]  (0.8, 1]\n",
      "0         0           0           1           0         0\n",
      "1         0           1           0           0         0\n",
      "2         0           0           0           0         1\n",
      "3         0           0           1           0         0\n",
      "4         0           0           1           0         0\n",
      "5         1           0           0           0         0\n",
      "6         0           1           0           0         0\n",
      "7         1           0           0           0         0\n",
      "8         0           0           0           0         1\n",
      "9         1           0           0           0         0\n"
     ]
    }
   ],
   "source": [
    "values = np.random.rand(10)\n",
    "bins = [0, 0.2, 0.4, 0.6, 0.8, 1]\n",
    "\n",
    "print values\n",
    "print bins\n",
    "print pd.get_dummies(pd.cut(values, bins))"
   ]
  }
 ],
 "metadata": {
  "anaconda-cloud": {},
  "kernelspec": {
   "display_name": "Python [conda env:py27]",
   "language": "python",
   "name": "conda-env-py27-py"
  },
  "language_info": {
   "codemirror_mode": {
    "name": "ipython",
    "version": 2
   },
   "file_extension": ".py",
   "mimetype": "text/x-python",
   "name": "python",
   "nbconvert_exporter": "python",
   "pygments_lexer": "ipython2",
   "version": "2.7.12"
  }
 },
 "nbformat": 4,
 "nbformat_minor": 1
}
