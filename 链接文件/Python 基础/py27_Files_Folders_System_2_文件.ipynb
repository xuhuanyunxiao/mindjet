{
 "cells": [
  {
   "cell_type": "markdown",
   "metadata": {},
   "source": [
    "## 三、各种格式文档的生成、读取、写入、保存\n",
    "\n",
    "* 1 TXT,DAT(纯文本，里面的格式你已经有一定的了解)\n",
    "* 2 CSV,TSV(Comma/Tab Separated Values 逗号、Tab分隔值的数据表)\n",
    "* 3 JSON(JavaScript Object Notation，兼容Javascript数据的字符串表达)\n",
    "* 4 XML(eXtensible Markup Language，半结构化数据标记语言，标签在尖括号中)\n",
    "* 5 HTML(Hyper Text Markup Language，网页标记语言，元数据在尖括号中)"
   ]
  },
  {
   "cell_type": "markdown",
   "metadata": {},
   "source": [
    "### 1 文件常用操作"
   ]
  },
  {
   "cell_type": "markdown",
   "metadata": {},
   "source": [
    "#### 1.1 修改、改名、复制、移动、删除"
   ]
  },
  {
   "cell_type": "code",
   "execution_count": null,
   "metadata": {
    "collapsed": true
   },
   "outputs": [],
   "source": [
    "os.stat(fil) # 获取文件属性\n",
    "os.utime() # 更新文件时间戳\n",
    "os.tmpfile() # 创建并打开（w+b）一个新的临时文件\n",
    "os.path.getsize(filename) # 获取文件大小\n",
    "os.access('C:\\\\Users\\yishikeji-01\\Desktop\\ex3.txt',1) # 访问权限\n",
    "# True  检验用户是否对文件有访问权限\n",
    "os.chmod() # 修改文件权限与时间戳\n",
    "os.chown() # 修改属主，属主\n",
    "os.umask() # 设置默认权限模式\n",
    "os.makedev() # 创建设备\n",
    "os.mknod() # 创建设备文件\n",
    "\n",
    "\n",
    "shutil.copyfile(\"oldfile\",\"newfile\") # 复制文件：oldfile 和 newfile 都只能是文件\n",
    "shutil.copyfileobj(open('old.xml','r'), open('new.xml', 'w')) # 将文件内容拷贝到另一个文件中\n",
    "\n",
    "shutil.copy('f1.log', 'f2.log') # 拷贝文件和权限\n",
    "shutil.copy2('f1.log', 'f2.log') # 拷贝文件和状态信息\n",
    "shutil.copyfile('f1.log', 'f2.log') # 拷贝文件\n",
    "shutil.copymode('f1.log', 'f2.log') # 仅拷贝权限。内容、组、用户均不变\n",
    "shutil.copystat('f1.log', 'f2.log') # 仅拷贝状态的信息，包括：mode bits, atime, mtime, flags\n",
    "\n",
    "os.remove() # 删除一个文件\n",
    "shutil.rmtree('folder1') # 递归的去删除文件"
   ]
  },
  {
   "cell_type": "markdown",
   "metadata": {
    "collapsed": true
   },
   "source": [
    "#### 1.2 文件操作：open"
   ]
  },
  {
   "cell_type": "markdown",
   "metadata": {},
   "source": [
    "* 关于open 模式：\n",
    "> * w     以写方式打开，\n",
    "> * a     以追加模式打开 (从 EOF 开始, 必要时创建新文件)\n",
    "> * r+     以读写模式打开\n",
    "> * w+     以读写模式打开 (参见 w )\n",
    "> * a+     以读写模式打开 (参见 a )\n",
    "> * rb     以二进制读模式打开\n",
    "> * wb     以二进制写模式打开 (参见 w )\n",
    "> * ab     以二进制追加模式打开 (参见 a )\n",
    "> * rb+    以二进制读写模式打开 (参见 r+ )\n",
    "> * wb+    以二进制读写模式打开 (参见 w+ )\n",
    "> * ab+    以二进制读写模式打开 (参见 a+ )"
   ]
  },
  {
   "cell_type": "code",
   "execution_count": 151,
   "metadata": {
    "collapsed": false
   },
   "outputs": [
    {
     "name": "stdout",
     "output_type": "stream",
     "text": [
      "['__class__', '__delattr__', '__doc__', '__enter__', '__exit__', '__format__', '__getattribute__', '__hash__', '__init__', '__iter__', '__new__', '__reduce__', '__reduce_ex__', '__repr__', '__setattr__', '__sizeof__', '__str__', '__subclasshook__', 'close', 'closed', 'encoding', 'errors', 'fileno', 'flush', 'isatty', 'mode', 'name', 'newlines', 'next', 'read', 'readinto', 'readline', 'readlines', 'seek', 'softspace', 'tell', 'truncate', 'write', 'writelines', 'xreadlines']\n"
     ]
    }
   ],
   "source": [
    "print dir(file)"
   ]
  },
  {
   "cell_type": "code",
   "execution_count": 162,
   "metadata": {
    "collapsed": false
   },
   "outputs": [
    {
     "name": "stdout",
     "output_type": "stream",
     "text": [
      "abcd\n",
      "efghijklmnopqrstuvw;mn\n",
      "[]\n",
      "None\n",
      "4124\n",
      "None\n",
      "0\n",
      "False\n",
      "17\n",
      "False\n",
      "None\n",
      "D:\\Python35\\scikit_exercise.py\n",
      "w+\n",
      "None\n"
     ]
    },
    {
     "data": {
      "text/plain": [
       "<function close>"
      ]
     },
     "execution_count": 162,
     "metadata": {},
     "output_type": "execute_result"
    }
   ],
   "source": [
    "fid = open('D:\\Python35\\scikit_exercise.py','w+')\n",
    "print fid.read(4) #size为读取的长度，以byte为单位\n",
    "# 每次读取整个文件，它通常用于将文件内容放到一个字符串变量中。\n",
    "# 然而 .read() 生成文件内容最直接的字符串表示，但对于连续的面向行的处理，它却是不必要的，并且如果文件大于可用内存，则不可能实现这种处理。\n",
    "print fid.readline() # #读一行，如果定义了size，有可能返回的只是一行的一部分\n",
    "print fid.readlines() # 一次读取所有行，文件指针指向文件尾部\n",
    "# 把文件每一行作为一个list的一个成员，并返回这个list。\n",
    "# 其实它的内部是通过循环调用readline()来实现的。\n",
    "# 如果提供size参数，size是表示读取内容的总长，也就是说可能只读到文件的一部分。\n",
    "print fid.write('abcdefghijklmnopqrstuvw;mn') #把str写到文件中，write()并不会在str后加上一个换行符\n",
    "# fid.writelines(seq) #把seq的内容全部写到文件中(多行一次性写入)。\n",
    "fid.next() #返回下一行，并将文件操作标记位移到下一行。\n",
    "# 把一个file用于for … in file这样的语句时，就是调用next()函数来实现遍历的。\n",
    "print fid.tell() #　返回文件指针位置，为字节数\n",
    "# fid.seek(offset[whence])\n",
    "# whence：起点\n",
    "#       0--从文件头；1--从当前位置；2--从文件尾部\n",
    "# offset：偏移量\n",
    "print fid.seek(0) # 0 从文件头偏移0\n",
    "# 将文件打操作标记移到offset的位置。这个offset一般是相对于文件的开头来计算的，一般为正数。\n",
    "# 但如果提供了whence参数就不一定了，whence可以为0表示从头开始计算，1表示以当前位置为原点计算。\n",
    "# 2表示以文件末尾为原点进行计算。\n",
    "# 需要注意，如果文件以a或a+的模式打开，每次进行写操作时，文件操作标记会自动返回到文件末尾。\n",
    "print fid.tell() # 0 移动到开头\n",
    "print fid.isatty() # 是否为终端文件 False（否，为普通文件）（unix系统中的）\n",
    "print fid.fileno() #返回一个长整型的”文件标签“\n",
    "# fid.truncate(5) # 截取，只保留5个字节\n",
    "# fid.truncate(fid1.tell()) # 截取文件到当前文件指针位置\n",
    "\n",
    "# 以上为方法（后加()），以下是属性（不加()）\n",
    "print fid.closed # 当前文件是否关闭  False\n",
    "print fid.encoding # 当前文件编码方式  'none'\n",
    "print fid.name # 当前文件名字  \n",
    "print fid.mode # 当前文件打开模式  'r'\n",
    "print fid.newlines # 当前行的换行方式 'none'\n",
    "\n",
    "fid.close "
   ]
  },
  {
   "cell_type": "markdown",
   "metadata": {},
   "source": [
    "#### 1.3 对象持久存储：流式化、扁平化"
   ]
  },
  {
   "cell_type": "code",
   "execution_count": 163,
   "metadata": {
    "collapsed": true
   },
   "outputs": [],
   "source": [
    "import pickle # pickle 模块\n",
    "import marshal"
   ]
  },
  {
   "cell_type": "code",
   "execution_count": 164,
   "metadata": {
    "collapsed": false
   },
   "outputs": [
    {
     "name": "stdout",
     "output_type": "stream",
     "text": [
      "['APPEND', 'APPENDS', 'BINFLOAT', 'BINGET', 'BININT', 'BININT1', 'BININT2', 'BINPERSID', 'BINPUT', 'BINSTRING', 'BINUNICODE', 'BUILD', 'BooleanType', 'BufferType', 'BuiltinFunctionType', 'BuiltinMethodType', 'ClassType', 'CodeType', 'ComplexType', 'DICT', 'DUP', 'DictProxyType', 'DictType', 'DictionaryType', 'EMPTY_DICT', 'EMPTY_LIST', 'EMPTY_TUPLE', 'EXT1', 'EXT2', 'EXT4', 'EllipsisType', 'FALSE', 'FLOAT', 'FileType', 'FloatType', 'FrameType', 'FunctionType', 'GET', 'GLOBAL', 'GeneratorType', 'GetSetDescriptorType', 'HIGHEST_PROTOCOL', 'INST', 'INT', 'InstanceType', 'IntType', 'LIST', 'LONG', 'LONG1', 'LONG4', 'LONG_BINGET', 'LONG_BINPUT', 'LambdaType', 'ListType', 'LongType', 'MARK', 'MemberDescriptorType', 'MethodType', 'ModuleType', 'NEWFALSE', 'NEWOBJ', 'NEWTRUE', 'NONE', 'NoneType', 'NotImplementedType', 'OBJ', 'ObjectType', 'PERSID', 'POP', 'POP_MARK', 'PROTO', 'PUT', 'PickleError', 'Pickler', 'PicklingError', 'PyStringMap', 'REDUCE', 'SETITEM', 'SETITEMS', 'SHORT_BINSTRING', 'STOP', 'STRING', 'SliceType', 'StringIO', 'StringType', 'StringTypes', 'TRUE', 'TUPLE', 'TUPLE1', 'TUPLE2', 'TUPLE3', 'TracebackType', 'TupleType', 'TypeType', 'UNICODE', 'UnboundMethodType', 'UnicodeType', 'Unpickler', 'UnpicklingError', 'XRangeType', '_EmptyClass', '_Stop', '__all__', '__builtins__', '__doc__', '__file__', '__name__', '__package__', '__version__', '_binascii', '_extension_cache', '_extension_registry', '_inverted_registry', '_keep_alive', '_test', '_tuplesize2code', 'classmap', 'compatible_formats', 'decode_long', 'dispatch_table', 'dump', 'dumps', 'encode_long', 'format_version', 'load', 'loads', 'marshal', 'mloads', 're', 'struct', 'sys', 'whichmodule']\n"
     ]
    }
   ],
   "source": [
    "print dir(pickle)"
   ]
  },
  {
   "cell_type": "code",
   "execution_count": 165,
   "metadata": {
    "collapsed": true
   },
   "outputs": [],
   "source": [
    "d1 = {'x':123,'y':456,'z':'hello world'}\n",
    "f1 = open('ex5.txt','w+')\n",
    "pickle.dump(d1,f1)\n",
    "f1.flush()\n",
    "f1.close()\n",
    "f2 = open('ex5.txt','r')\n",
    "d2 = pickle.load(f2)"
   ]
  },
  {
   "cell_type": "markdown",
   "metadata": {},
   "source": [
    "## 2 txt"
   ]
  },
  {
   "cell_type": "markdown",
   "metadata": {},
   "source": [
    "### 2.1 新建、写入"
   ]
  },
  {
   "cell_type": "code",
   "execution_count": 125,
   "metadata": {
    "collapsed": false
   },
   "outputs": [
    {
     "name": "stdout",
     "output_type": "stream",
     "text": [
      "C:\\Users\\yishikeji-01\\Desktop\\Python_Folder\n"
     ]
    }
   ],
   "source": [
    "os.chdir('C:\\Users\\yishikeji-01\\Desktop\\Python_Folder') # 改变工作目录到dirname\n",
    "print os.getcwd()"
   ]
  },
  {
   "cell_type": "code",
   "execution_count": 166,
   "metadata": {
    "collapsed": false
   },
   "outputs": [
    {
     "name": "stdout",
     "output_type": "stream",
     "text": [
      "12\n"
     ]
    }
   ],
   "source": [
    "fid1 = open('ex1.txt','w+') # w时，没有文件则新建\n",
    "fid1.write('new line. \\n') # 写入文件内容\n",
    "print fid1.tell() # 12\n",
    "fid1.close() # 关闭文件"
   ]
  },
  {
   "cell_type": "code",
   "execution_count": 134,
   "metadata": {
    "collapsed": true
   },
   "outputs": [],
   "source": [
    "fid1 = open('ex2.txt','w+')\n",
    "for line in (1**2 for i in range(1,11)):\n",
    "        fid1.write(str(line) + '\\n')\n",
    "fid1.flush() # 将缓存中的数据刷新到硬盘上\n",
    "fid1.close()"
   ]
  },
  {
   "cell_type": "code",
   "execution_count": 137,
   "metadata": {
    "collapsed": false
   },
   "outputs": [
    {
     "name": "stdout",
     "output_type": "stream",
     "text": [
      "[1, 4, 9, 16, 25, 36, 49, 64, 81, 100]\n"
     ]
    }
   ],
   "source": [
    "fid1 = open('ex3.txt','w+')\n",
    "L1 = [ i**2 for i in range(1,11)]\n",
    "print L1 # [1, 4, 9, 16, 25, 36, 49, 64, 81, 100]\n",
    "# fid1.writelines(L1) # 报错，只能写入字符串\n",
    "fid1.writelines(str(L1))\n",
    "fid1.close() "
   ]
  },
  {
   "cell_type": "markdown",
   "metadata": {},
   "source": [
    "### 2.2 读取"
   ]
  },
  {
   "cell_type": "code",
   "execution_count": null,
   "metadata": {
    "collapsed": true
   },
   "outputs": [],
   "source": [
    "f = open(\"S0EP4_fakedata.txt\",'r')\n",
    "file_content0 = [] \n",
    "mark = True\n",
    "while(mark):\n",
    "    file_content0.append(f.readline())\n",
    "    mark = file_content0[-1]\n",
    "f.close()\n",
    "print file_content0"
   ]
  },
  {
   "cell_type": "markdown",
   "metadata": {},
   "source": [
    "* 在一个目录下有多个文件，每个文件都要读取一次，并进行文本处理"
   ]
  },
  {
   "cell_type": "code",
   "execution_count": null,
   "metadata": {
    "collapsed": true
   },
   "outputs": [],
   "source": [
    "# 比如d:\\work下面是你要读取的文件，代码可以这样写:  \n",
    "import os  \n",
    "path = 'd:\\\\work' #or path = r'd:\\work'  \n",
    "os.chdir(path)  \n",
    "for filename in os.listdir():  \n",
    "    file = open(filename,'r')  \n",
    "    for eachline in file.readlines():  \n",
    "        #process eachline  "
   ]
  },
  {
   "cell_type": "markdown",
   "metadata": {},
   "source": [
    "* 将文件（record.txt）中的数据进行分割并按照以下规律保存起来：\n",
    "> * --boy的对话单独保存为boy_*.txt的文件（去掉\"boy:\"）\n",
    "> * --girl的对话单独保存为girl_*.txt的文件（去掉\"girl:\"）\n",
    "> * --文件中总共有三段对话，分别保存为boy_1.txt,girl_1.txt,boy_2.txt,girl_2.txt,boy_3.txt,girl_3.txt共六个文件（文件中的不同的对话已经用\"=======\"分割）。"
   ]
  },
  {
   "cell_type": "code",
   "execution_count": null,
   "metadata": {
    "collapsed": true
   },
   "outputs": [],
   "source": [
    "boy_log = []  \n",
    "girl_log = []  \n",
    "version = 1  \n",
    "  \n",
    "def save_to_file(boy_log,girl_log,version):  \n",
    "    filename_boy = 'boy_' + str(version) + \".txt\"  \n",
    "    filename_girl = 'girl_' + str(version)  + \".txt\"  \n",
    "    fb = open(filename_boy,\"w\")  \n",
    "    fg = open(filename_girl,\"w\")  \n",
    "    fb.writelines(boy_log)  \n",
    "    fg.writelines(girl_log)  \n",
    "              \n",
    "    fb.close()  \n",
    "    fg.close()  \n",
    "  \n",
    "def process(filename):  \n",
    "    file = open(filename,\"r\")  \n",
    "    for eachline in file.readlines():  \n",
    "        if eachline[:6] != \"======\":  \n",
    "            mylist = eachline.split(\":\")  \n",
    "            if mylist[0] == \"boy\":  \n",
    "                global boy_log  \n",
    "                boy_log.append(mylist[-1])  \n",
    "            else:  \n",
    "                global girl_log  \n",
    "                girl_log.append(mylist[-1])  \n",
    "        else:  \n",
    "            global version  \n",
    "            save_to_file(boy_log,girl_log,version)  \n",
    "            version += 1  \n",
    "            boy_log = []  \n",
    "            girl_log = []  \n",
    "              \n",
    "    save_to_file(boy_log,girl_log,version)  \n",
    "  \n",
    "if __name__ == \"__main__\":  \n",
    "    fn = \"record.txt\"  \n",
    "    process(fn)  "
   ]
  },
  {
   "cell_type": "markdown",
   "metadata": {
    "collapsed": true
   },
   "source": [
    "## 3 CSV"
   ]
  },
  {
   "cell_type": "markdown",
   "metadata": {
    "collapsed": true
   },
   "source": [
    "### 3.1 读取\n",
    "* 语法：csv.reader(iterable[, dialect='excel'][optional keyword args])\n",
    "> * csvfile: 需要是支持迭代(Iterator)的对象，并且每次调用next方法的返回值是字符串(string)，通常的文件(file)对象，或者列表(list)对象都是适用的，如果是文件对象，打开是需要加\"b\"标志参数。\n",
    "> * dialect: 编码风格，默认为excel方式，也就是逗号(,)分隔，另外csv模块也支持excel-tab风格，也就是制表符(tab)分隔。其它的方式需要自己定义，然后可以调用register_dialect方法来注册，以及list_dialects方法来查询已注册的所有编码风格列表。\n",
    "> * fmtparam: 格式化参数，用来覆盖之前dialect对象指定的编码风格。"
   ]
  },
  {
   "cell_type": "code",
   "execution_count": 1,
   "metadata": {
    "collapsed": false
   },
   "outputs": [
    {
     "name": "stdout",
     "output_type": "stream",
     "text": [
      "['Dialect', 'DictReader', 'DictWriter', 'Error', 'QUOTE_ALL', 'QUOTE_MINIMAL', 'QUOTE_NONE', 'QUOTE_NONNUMERIC', 'Sniffer', 'StringIO', '_Dialect', '__all__', '__builtins__', '__doc__', '__file__', '__name__', '__package__', '__version__', 'excel', 'excel_tab', 'field_size_limit', 'get_dialect', 'list_dialects', 're', 'reader', 'reduce', 'register_dialect', 'unregister_dialect', 'writer']\n"
     ]
    }
   ],
   "source": [
    "import csv\n",
    "print dir(csv)"
   ]
  },
  {
   "cell_type": "code",
   "execution_count": 4,
   "metadata": {
    "collapsed": false
   },
   "outputs": [
    {
     "ename": "NameError",
     "evalue": "name 'srcFilePath' is not defined",
     "output_type": "error",
     "traceback": [
      "\u001b[0;31m---------------------------------------------------------------------------\u001b[0m",
      "\u001b[0;31mNameError\u001b[0m                                 Traceback (most recent call last)",
      "\u001b[0;32m<ipython-input-4-7eb1355661a7>\u001b[0m in \u001b[0;36m<module>\u001b[0;34m()\u001b[0m\n\u001b[1;32m      1\u001b[0m \u001b[1;32mimport\u001b[0m \u001b[0mcsv\u001b[0m\u001b[1;33m\u001b[0m\u001b[0m\n\u001b[0;32m----> 2\u001b[0;31m \u001b[0mreader\u001b[0m \u001b[1;33m=\u001b[0m \u001b[0mcsv\u001b[0m\u001b[1;33m.\u001b[0m\u001b[0mreader\u001b[0m\u001b[1;33m(\u001b[0m\u001b[0mfile\u001b[0m\u001b[1;33m(\u001b[0m\u001b[0msrcFilePath\u001b[0m\u001b[1;33m,\u001b[0m\u001b[1;34m'rb'\u001b[0m\u001b[1;33m)\u001b[0m\u001b[1;33m)\u001b[0m    \u001b[1;31m#从文件读取\u001b[0m\u001b[1;33m\u001b[0m\u001b[0m\n\u001b[0m\u001b[1;32m      3\u001b[0m \u001b[1;32mfor\u001b[0m \u001b[0mline\u001b[0m \u001b[1;32min\u001b[0m \u001b[0mreader\u001b[0m\u001b[1;33m:\u001b[0m\u001b[1;33m\u001b[0m\u001b[0m\n\u001b[1;32m      4\u001b[0m     \u001b[1;32mif\u001b[0m \u001b[0mreader\u001b[0m\u001b[1;33m.\u001b[0m\u001b[0mline_num\u001b[0m \u001b[1;33m==\u001b[0m \u001b[1;36m1\u001b[0m\u001b[1;33m:\u001b[0m   \u001b[1;31m#忽略第一行\u001b[0m\u001b[1;33m\u001b[0m\u001b[0m\n\u001b[1;32m      5\u001b[0m         \u001b[1;32mcontinue\u001b[0m\u001b[1;33m\u001b[0m\u001b[0m\n",
      "\u001b[0;31mNameError\u001b[0m: name 'srcFilePath' is not defined"
     ]
    }
   ],
   "source": [
    "import csv     \n",
    "reader = csv.reader(file(srcFilePath,'rb'))    #从文件读取 \n",
    "for line in reader:     \n",
    "    if reader.line_num == 1:   #忽略第一行  \n",
    "        continue      \n",
    "    type = line[0]    #line是个list，取得所有需要的值  \n",
    "writer = csv.writer(open(targetFile,\"wb\"),quoting=csv.QUOTE_ALL)  #写入文件     \n",
    "writer.writerow([\"121\",\"121\"])  #传入list   \n",
    "writer.writerows([[\"121\",\"121\"]])  #传入2纬list  "
   ]
  },
  {
   "cell_type": "markdown",
   "metadata": {
    "collapsed": true
   },
   "source": [
    "### 3.2 写入\n",
    "* csv.writer(fileobj [, dialect='excel'][optional keyword args])"
   ]
  },
  {
   "cell_type": "code",
   "execution_count": null,
   "metadata": {
    "collapsed": true
   },
   "outputs": [],
   "source": [
    "writer=csv.writer(open('test.csv', 'wb'))\n",
    "writer.writerow(['col1', 'col2', 'col3'])\n",
    "data=[range(3) for i in range(3)]\n",
    "for item in data:\n",
    "    writer.writerow(item) "
   ]
  },
  {
   "cell_type": "markdown",
   "metadata": {
    "collapsed": true
   },
   "source": [
    "> * 须注意之处：\n",
    ">> * 1 writer.writerow()方法中的参数是list类型，如果你想在A1列写入'hello'，则必须是writer.writerow(['hello'])，不然'hello'会被看成是个list从而被分写入5列。\n",
    ">> * 2 写入CSV时，CSV文件的创建必须加上'b'参数，即csv.writer(open('test.csv','wb'))，不然会出现隔行的现象。\n",
    ">> * 网上搜到的解释是：python正常写入文件的时候，每行的结束默认添加'\\n’，即0x0D，而writerow命令的结束会再增加一个0x0D0A，因此对于windows系统来说，就是两行，而采用’b'参数，用二进制进行文件写入，系统默认是不添加0x0D的。"
   ]
  },
  {
   "cell_type": "markdown",
   "metadata": {
    "collapsed": true
   },
   "source": [
    "### 4 Excel"
   ]
  },
  {
   "cell_type": "markdown",
   "metadata": {
    "collapsed": true
   },
   "source": [
    "#### 4.1 读取"
   ]
  },
  {
   "cell_type": "code",
   "execution_count": 6,
   "metadata": {
    "collapsed": false
   },
   "outputs": [
    {
     "name": "stdout",
     "output_type": "stream",
     "text": [
      "['Book', 'FMLA_TYPE_ARRAY', 'FMLA_TYPE_CELL', 'FMLA_TYPE_COND_FMT', 'FMLA_TYPE_DATA_VAL', 'FMLA_TYPE_NAME', 'FMLA_TYPE_SHARED', 'MMAP_AVAILABLE', 'USE_MMAP', 'X12Book', 'XLDateError', 'XLRDError', 'XL_CELL_BLANK', 'XL_CELL_BOOLEAN', 'XL_CELL_DATE', 'XL_CELL_EMPTY', 'XL_CELL_ERROR', 'XL_CELL_NUMBER', 'XL_CELL_TEXT', '__VERSION__', '__builtins__', '__doc__', '__file__', '__name__', '__package__', '__path__', 'biff_text_from_num', 'biffh', 'book', 'cellname', 'cellnameabs', 'colname', 'compdoc', 'count_records', 'decompile_formula', 'dump', 'dump_formula', 'empty_cell', 'error_text_from_code', 'evaluate_name_formula', 'formatting', 'formula', 'info', 'licences', 'mmap', 'oBOOL', 'oERR', 'oNUM', 'oREF', 'oREL', 'oSTRG', 'oUNK', 'okind_dict', 'open_workbook', 'path', 'pprint', 'rangename3d', 'rangename3drel', 'sheet', 'sys', 'timemachine', 'xldate', 'xldate_as_tuple', 'xlsx', 'zipfile']\n"
     ]
    }
   ],
   "source": [
    "import xlrd\n",
    "print dir(xlrd) "
   ]
  },
  {
   "cell_type": "code",
   "execution_count": 8,
   "metadata": {
    "collapsed": false
   },
   "outputs": [],
   "source": [
    "xlrd.open_workbook?"
   ]
  },
  {
   "cell_type": "code",
   "execution_count": null,
   "metadata": {
    "collapsed": true
   },
   "outputs": [],
   "source": [
    "data = xlrd.open_workbook('demo.xls') #注意这里的workbook首字母是小写\n",
    "data.sheet_names() # 查看文件中包含sheet的名称\n",
    "table = data.sheets()[0]# 得到第一个工作表，或者通过索引顺序 或 工作表名称\n",
    "table = data.sheet_by_index(0)\n",
    "table = data.sheet_by_name(u'Sheet1')\n",
    "nrows = table.nrows # 获取行数和列数\n",
    "ncols = table.ncols\n",
    "table.row_values(i) # 获取整行和整列的值（数组）\n",
    "table.col_values(i)\n",
    "for rownum in range(table.nrows): # 循环行,得到索引的列表\n",
    "    print table.row_values(rownum)\n",
    "cell_A1 = table.cell(0,0).value # 单元格\n",
    "cell_C4 = table.cell(2,3).value\n",
    "cell_A1 = table.row(0)[0].value # 分别使用行列索引\n",
    "cell_A2 = table.col(1)[0].value\n",
    "\n",
    "# 简单的写入\n",
    "row = 0\n",
    "col = 0\n",
    "ctype = 1 # 类型 0 empty,1 string, 2 number, 3 date, 4 boolean, 5 error\n",
    "value = 'lixiaoluo'\n",
    "xf = 0 # 扩展的格式化 (默认是0)\n",
    "table.put_cell(row, col, ctype, value, xf)\n",
    "table.cell(0,0) # 文本:u'lixiaoluo'\n",
    "table.cell(0,0).value # 'lixiaoluo'"
   ]
  },
  {
   "cell_type": "markdown",
   "metadata": {
    "collapsed": true
   },
   "source": [
    "#### 4.2 写入"
   ]
  },
  {
   "cell_type": "code",
   "execution_count": 169,
   "metadata": {
    "collapsed": false
   },
   "outputs": [
    {
     "name": "stdout",
     "output_type": "stream",
     "text": [
      "['ANTLRException', 'Alignment', 'BIFFRecords', 'Bitmap', 'Borders', 'Cell', 'Column', 'ExcelFormula', 'ExcelFormulaLexer', 'ExcelFormulaParser', 'ExcelMagic', 'Font', 'Formatting', 'Formula', 'Pattern', 'Protection', 'Row', 'Style', 'UnicodeUtils', 'Utils', 'Workbook', 'Worksheet', 'XFStyle', '__VERSION__', '__builtins__', '__doc__', '__file__', '__name__', '__package__', '__path__', 'add_palette_colour', 'antlr', 'compat', 'easyfont', 'easyxf', 'struct']\n"
     ]
    }
   ],
   "source": [
    "import xlwt\n",
    "print dir(xlwt)"
   ]
  },
  {
   "cell_type": "code",
   "execution_count": null,
   "metadata": {
    "collapsed": true
   },
   "outputs": [],
   "source": [
    "ExcelFile = xlwt.Workbook() # 注意这里的Workbook首字母是大写\n",
    "NewSheet = ExcelFile.add_sheet('sheet name') # 新建一个sheet\n",
    "NewSheet.write(0,0,'test') # 写入数据table.write(行,列,value)\n",
    "NewSheet = ExcelFile.add_sheet('sheet name',cell_overwrite_ok=True) \n",
    "# 如果对一个单元格重复操作，会引发returns error,所以在打开时加cell_overwrite_ok=True解决\n",
    "ExcelFile.save('demo.xls') # 保存文件"
   ]
  },
  {
   "cell_type": "markdown",
   "metadata": {
    "collapsed": true
   },
   "source": [
    "* 使用style"
   ]
  },
  {
   "cell_type": "code",
   "execution_count": null,
   "metadata": {
    "collapsed": true
   },
   "outputs": [],
   "source": [
    "style = xlwt.XFStyle() #初始化样式\n",
    "font = xlwt.Font() #为样式创建字体\n",
    "font.name = 'Times New Roman'\n",
    "font.bold = True\n",
    "style.font = font #为样式设置字体\n",
    "table.write(0, 0, 'some bold Times text', style) # 使用样式\n",
    "\n",
    "# xlwt 允许单元格或者整行地设置格式。还可以添加链接以及公式。可以阅读源代码，那里有例子：\n",
    "# dates.py, 展示如何设置不同的数据格式\n",
    "# hyperlinks.py, 展示如何创建超链接 (hint: you need to use a formula)\n",
    "# merged.py, 展示如何合并格子\n",
    "# row_styles.py, 展示如何应用Style到整行格子中."
   ]
  },
  {
   "cell_type": "code",
   "execution_count": null,
   "metadata": {
    "collapsed": true
   },
   "outputs": [],
   "source": []
  }
 ],
 "metadata": {
  "anaconda-cloud": {},
  "kernelspec": {
   "display_name": "Python [conda env:py27]",
   "language": "python",
   "name": "conda-env-py27-py"
  },
  "language_info": {
   "codemirror_mode": {
    "name": "ipython",
    "version": 2
   },
   "file_extension": ".py",
   "mimetype": "text/x-python",
   "name": "python",
   "nbconvert_exporter": "python",
   "pygments_lexer": "ipython2",
   "version": "2.7.12"
  }
 },
 "nbformat": 4,
 "nbformat_minor": 1
}
