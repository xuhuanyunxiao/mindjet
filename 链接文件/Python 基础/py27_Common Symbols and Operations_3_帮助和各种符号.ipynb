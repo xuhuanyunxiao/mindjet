{
 "cells": [
  {
   "cell_type": "markdown",
   "metadata": {
    "collapsed": true
   },
   "source": [
    "### 1 Python获取帮助的3种方式\n",
    "* http://blog.csdn.net/dq_dm/article/details/45672623"
   ]
  },
  {
   "cell_type": "code",
   "execution_count": 2,
   "metadata": {
    "collapsed": false
   },
   "outputs": [],
   "source": [
    "import numpy as np\n",
    "np.mean? # Ipython 中使用，有示例，类似MATLAB"
   ]
  },
  {
   "cell_type": "markdown",
   "metadata": {
    "collapsed": true
   },
   "source": [
    "#### 1）help()\n",
    "+ help函数是Python的一个内置函数。 \n",
    "+ 函数原型：help([object])。 \n",
    "+ 可以帮助我们了解该对象的更多信息。 "
   ]
  },
  {
   "cell_type": "code",
   "execution_count": 1,
   "metadata": {
    "collapsed": false
   },
   "outputs": [
    {
     "name": "stdout",
     "output_type": "stream",
     "text": [
      "Help on built-in function abs in module __builtin__:\n",
      "\n",
      "abs(...)\n",
      "    abs(number) -> number\n",
      "    \n",
      "    Return the absolute value of the argument.\n",
      "\n"
     ]
    }
   ],
   "source": [
    "help(abs)  # 查看abs函数"
   ]
  },
  {
   "cell_type": "code",
   "execution_count": 1,
   "metadata": {
    "collapsed": false
   },
   "outputs": [],
   "source": [
    "import math\n",
    "help(math) # 查看math模块"
   ]
  },
  {
   "cell_type": "markdown",
   "metadata": {
    "collapsed": true
   },
   "source": [
    "#### 2) dir()\n",
    "+ dir函数是Python的一个内置函数。 \n",
    "+ 函数原型：dir([object]) \n",
    "+ 可以帮助我们获取该对象的大部分相关属性。"
   ]
  },
  {
   "cell_type": "code",
   "execution_count": 9,
   "metadata": {
    "collapsed": false
   },
   "outputs": [
    {
     "name": "stdout",
     "output_type": "stream",
     "text": [
      "['In', 'Out', '_', '_4', '_5', '_6', '__', '___', '__builtin__', '__builtins__', '__doc__', '__name__', '__package__', '_dh', '_i', '_i1', '_i2', '_i3', '_i4', '_i5', '_i6', '_i7', '_i8', '_i9', '_ih', '_ii', '_iii', '_oh', '_sh', 'exit', 'get_ipython', 'math', 'quit']\n"
     ]
    }
   ],
   "source": [
    "print dir()  # 没有参数"
   ]
  },
  {
   "cell_type": "code",
   "execution_count": 7,
   "metadata": {
    "collapsed": false
   },
   "outputs": [
    {
     "name": "stdout",
     "output_type": "stream",
     "text": [
      "['__abs__', '__add__', '__class__', '__coerce__', '__delattr__', '__div__', '__divmod__', '__doc__', '__eq__', '__float__', '__floordiv__', '__format__', '__ge__', '__getattribute__', '__getformat__', '__getnewargs__', '__gt__', '__hash__', '__init__', '__int__', '__le__', '__long__', '__lt__', '__mod__', '__mul__', '__ne__', '__neg__', '__new__', '__nonzero__', '__pos__', '__pow__', '__radd__', '__rdiv__', '__rdivmod__', '__reduce__', '__reduce_ex__', '__repr__', '__rfloordiv__', '__rmod__', '__rmul__', '__rpow__', '__rsub__', '__rtruediv__', '__setattr__', '__setformat__', '__sizeof__', '__str__', '__sub__', '__subclasshook__', '__truediv__', '__trunc__', 'as_integer_ratio', 'conjugate', 'fromhex', 'hex', 'imag', 'is_integer', 'real']\n"
     ]
    }
   ],
   "source": [
    "print dir(float)  # 类型"
   ]
  },
  {
   "cell_type": "code",
   "execution_count": 8,
   "metadata": {
    "collapsed": false
   },
   "outputs": [
    {
     "name": "stdout",
     "output_type": "stream",
     "text": [
      "['In', 'Out', '_', '_4', '_5', '_6', '__', '___', '__builtin__', '__builtins__', '__doc__', '__name__', '__package__', '_dh', '_i', '_i1', '_i2', '_i3', '_i4', '_i5', '_i6', '_i7', '_i8', '_ih', '_ii', '_iii', '_oh', '_sh', 'exit', 'get_ipython', 'math', 'quit']\n"
     ]
    }
   ],
   "source": [
    "import math  # 引入一个包和一个变量，再次dir()\n",
    "print dir() "
   ]
  },
  {
   "cell_type": "markdown",
   "metadata": {
    "collapsed": true
   },
   "source": [
    "#### 3) _ doc_\n",
    "+ 在Python中有一个奇妙的特性，文档字符串，又称为DocStrings。 \n",
    "+ 用它可以为我们的模块、类、函数等添加说明性的文字，使程序易读易懂，更重要的是可以通过Python自带的标准方法将这些描述性文字信息输出。 \n",
    "+ 上面提到的自带的标准方法就是_ doc _。前后各两个下划线。 \n",
    "> 注：当不是函数、方法、模块等调用doc时，而是具体对象调用时，会显示此对象从属的类型的构造函数的文档字符串。"
   ]
  },
  {
   "cell_type": "code",
   "execution_count": 12,
   "metadata": {
    "collapsed": false
   },
   "outputs": [
    {
     "data": {
      "text/plain": [
       "'abs(number) -> number\\n\\nReturn the absolute value of the argument.'"
      ]
     },
     "execution_count": 12,
     "metadata": {},
     "output_type": "execute_result"
    }
   ],
   "source": [
    "abs.__doc__   # 内置函数"
   ]
  },
  {
   "cell_type": "code",
   "execution_count": 11,
   "metadata": {
    "collapsed": false
   },
   "outputs": [
    {
     "data": {
      "text/plain": [
       "'This module is always available.  It provides access to the\\nmathematical functions defined by the C standard.'"
      ]
     },
     "execution_count": 11,
     "metadata": {},
     "output_type": "execute_result"
    }
   ],
   "source": [
    "import math\n",
    "math.__doc__"
   ]
  },
  {
   "cell_type": "markdown",
   "metadata": {},
   "source": [
    "### 2 Python的各种符号\n",
    "* http://www.cnblogs.com/highroom/p/39a11918eebfb0e22a2ddda8b39526a1.html"
   ]
  },
  {
   "cell_type": "markdown",
   "metadata": {
    "collapsed": true
   },
   "source": [
    "#### 2.1 特殊符号\n",
    "* http://blog.csdn.net/noodies/article/details/6029951"
   ]
  },
  {
   "cell_type": "markdown",
   "metadata": {
    "collapsed": true
   },
   "source": [
    "> * ''' : 连续的3个引号，作为字符串的开头和结尾，允许字符串跨多行，并且可以包含换行符制表符等特殊符号。需要一段HTML或者SQL语句时，使用'''会使> 代码更简洁明了\n",
    "> * [begin:end] : 切片操作符号，取值范围为: [begin, end)，如果不填begin，则表示end之前(不包括end本身)所有元素；不填end，则表示begin及其后所有元素。索引从0开始，特别的，最后的索引可以用-1表示"
   ]
  },
  {
   "cell_type": "code",
   "execution_count": 11,
   "metadata": {
    "collapsed": false
   },
   "outputs": [
    {
     "name": "stdout",
     "output_type": "stream",
     "text": [
      "2\n",
      "2\n"
     ]
    }
   ],
   "source": [
    "print 4/2 \n",
    "print _  # _ : 最后一个表达式的值"
   ]
  },
  {
   "cell_type": "code",
   "execution_count": 4,
   "metadata": {
    "collapsed": false
   },
   "outputs": [
    {
     "name": "stdout",
     "output_type": "stream",
     "text": [
      "Python is number 1!\n"
     ]
    }
   ],
   "source": [
    "print '%s is number %d!' % ('Python', 1)    # % : 字符串格式操作符"
   ]
  },
  {
   "cell_type": "code",
   "execution_count": 8,
   "metadata": {
    "collapsed": false
   },
   "outputs": [],
   "source": [
    "logfile = open('mylog.txt','w+')  \n",
    "print >> logfile, 'Fatal error:invalid input!'   # >> : 输出重定向\n",
    "logfile.close()  "
   ]
  },
  {
   "cell_type": "code",
   "execution_count": 15,
   "metadata": {
    "collapsed": false
   },
   "outputs": [
    {
     "name": "stdout",
     "output_type": "stream",
     "text": [
      "2.5\n",
      "2\n",
      "2.5\n",
      "2\n"
     ]
    }
   ],
   "source": [
    "print 5/2    # // : 对于Python 3+，'/'表示真正的除法，'//'表示floor除法\n",
    "print 5//2\n",
    "from __future__ import division # （对于2.x版本，需要导入__future__ division才会这样）\n",
    "print 5/2\n",
    "print 5//2"
   ]
  },
  {
   "cell_type": "code",
   "execution_count": 18,
   "metadata": {
    "collapsed": false
   },
   "outputs": [
    {
     "name": "stdout",
     "output_type": "stream",
     "text": [
      "hello world!\n",
      "hellohello\n"
     ]
    }
   ],
   "source": [
    "print 'hello' + ' world!'  # +, * : 对于字符串，'+'表示字符串连接，'*'表示字符串重复\n",
    "print 'hello' * 2  "
   ]
  },
  {
   "cell_type": "code",
   "execution_count": 21,
   "metadata": {
    "collapsed": false
   },
   "outputs": [
    {
     "name": "stdout",
     "output_type": "stream",
     "text": [
      "<type 'str'>\n",
      "<type 'unicode'>\n"
     ]
    }
   ],
   "source": [
    "s = 'hello'  \n",
    "print type(s)  \n",
    "s = u'hello'   # u : 字符串前加u符号，表示此字符串是一个unicode的字符串\n",
    "print type(s)  "
   ]
  },
  {
   "cell_type": "markdown",
   "metadata": {
    "collapsed": true
   },
   "source": [
    "#### 2.2 运算符列表"
   ]
  },
  {
   "cell_type": "markdown",
   "metadata": {},
   "source": [
    "> * x+y，x-y                   加、减，“+”号可重载为连接符\n",
    "> * x*y，x**y，x/y，x%y     相乘、求平方、相除、求余，“*”号可重载为重复，“%”号可重载为格式化\n",
    "> * <，<=，>，>=，==，<>，!=                               比较运算符\n",
    "> * +=，-=，*=，/=，%=，**=，<<=，>>=，&=，^=，|=      自变运算符\n",
    "> * x|y   按位或\n",
    "> * x^y   按位异或\n",
    "> * x&y   按位与\n",
    "> * ~x    按位取反\n",
    "> * x<<，x>>y     x向左或向右移y位\n",
    "> * is, is not    等同测试\n",
    "> * in, not in    是否为成员测试\n",
    "> * or，and，not  逻辑运算符\n",
    "> * x[i]，x[i:j]，x.y，x(...)     索引，分片，限定引用，函数调用\n",
    "> * (...)，[...]，{...}，'...'    元组，列表，字典，转化为字符串"
   ]
  },
  {
   "cell_type": "markdown",
   "metadata": {
    "collapsed": true
   },
   "source": [
    "* 运算优先级：\n",
    "+ * Python会首先计算表中较下面的运算符，然后在计算列在表上部的运算符\n",
    "+ * 使用圆括号来分组运算符和操作数，以便能够明确地指出运算的先后顺序，使程序尽可能地易读\n",
    "\n",
    "> * lambda\tLambda表达式\n",
    "> * or\t布尔“或”\n",
    "> * and\t布尔“与”\n",
    "> * not x\t布尔“非”\n",
    "> * in，not in\t成员测试\n",
    "> * is，is not\t同一性测试\n",
    "> * <，<=，>，>=，!=，==\t比较\n",
    "> * |\t按位或\n",
    "> * ^\t按位异或\n",
    "> * &\t按位与\n",
    "> * <<，>>\t移位\n",
    "> * +，-\t加法与减法\n",
    "> * *，/，%\t乘法、除法与取余\n",
    "> * +x，-x\t正负号\n",
    "> * ~x\t按位翻转\n",
    "> * **\t指数\n",
    "> * x.attribute\t属性参考\n",
    "> * x[index]\t下标\n",
    "> * x[index:index]\t寻址段\n",
    "> * f(arguments...)\t函数调用\n",
    "> * (experession,...)\t绑定或元组显示\n",
    "> * [expression,...]\t列表显示\n",
    "> * {key:datum,...}\t字典显示\n",
    "> * 'expression,...'\t字符串转换"
   ]
  },
  {
   "cell_type": "markdown",
   "metadata": {
    "collapsed": true
   },
   "source": [
    "#### 2.4 字符串格式化代码"
   ]
  },
  {
   "cell_type": "markdown",
   "metadata": {
    "collapsed": true
   },
   "source": [
    "> *  %%    百分号标记\n",
    "> *  %c    字符及其ASCII码\n",
    "> *  %s    字符串\n",
    "> *  %d    有符号整数(十进制)\n",
    "> *  %u    无符号整数(十进制)\n",
    "> *  %o    无符号整数(八进制)\n",
    "> *  %x    无符号整数(十六进制)\n",
    "> *  %X    无符号整数(十六进制大写字符)\n",
    "> *  %e    浮点数字(科学计数法)\n",
    "> *  %E    浮点数字(科学计数法，用E代替e)\n",
    "> *  %f    浮点数字(用小数点符号)\n",
    "> *  %g    浮点数字(根据值的大小采用%e或%f)\n",
    "> *  %G    浮点数字(类似于%g)\n",
    "> *  %p    指针(用十六进制打印值的内存地址)\n",
    "> *  %n    存储输出字符的数量放进参数列表的下一个变量中"
   ]
  },
  {
   "cell_type": "markdown",
   "metadata": {
    "collapsed": true
   },
   "source": [
    "#### 2.5 转义字符表"
   ]
  },
  {
   "cell_type": "markdown",
   "metadata": {
    "collapsed": true
   },
   "source": [
    "> *  \\(在行尾时)      续行符\n",
    "> *  \\\\      反斜杠符号\n",
    "> *  \\'      单引号\n",
    "> *  \\\"      双引号\n",
    "> *  \\a      响铃\n",
    "> *  \\b      退格(Backspace)\n",
    "> *  \\e      转义\n",
    "> *  \\000    空\n",
    "> *  \\n      换行\n",
    "> *  \\v      纵向制表符\n",
    "> *  \\t      横向制表符\n",
    "> *  \\r      回车\n",
    "> *  \\f      换页\n",
    "> *  \\oyy      八进制数yy代表的字符，例如：\\o12代表换行\n",
    "> *  \\xyy      十进制数yy代表的字符，例如：\\x0a代表换行\n",
    "> *  \\other      其它的字符以普通格式输出"
   ]
  },
  {
   "cell_type": "markdown",
   "metadata": {
    "collapsed": true
   },
   "source": [
    "#### 2.5 正则表达式基本字符"
   ]
  },
  {
   "cell_type": "markdown",
   "metadata": {
    "collapsed": true
   },
   "source": [
    "> 正则表达式基本字符 : 可用匹配限定符来约束匹配的次数\n",
    "* text   匹配text字符串\n",
    "* .   匹配除换行符之外的任意一个单个字符\n",
    "* ^   匹配一个字符串的开头\n",
    "* $   匹配一个字符串的末尾"
   ]
  },
  {
   "cell_type": "markdown",
   "metadata": {
    "collapsed": true
   },
   "source": [
    "### 3 快捷键"
   ]
  },
  {
   "cell_type": "markdown",
   "metadata": {
    "collapsed": true
   },
   "source": [
    "> *    关闭所有窗口：Ctrl + q\n",
    "> *    关闭窗口： Alt + F4\n",
    "> *    打开新窗口：Ctrl + n\n",
    "> *    打开模块：Alt + m\n",
    "> *    打开浏览窗口：Alt + c\n",
    "> *    打开文件：Ctrl + o\n",
    "> *    内容帮助：Shift + F1\n",
    "> *    文档：F1\n",
    "> *    注释：Alt + 3\n",
    "> *    取消注释：Alt + 4\n",
    "> *    取消操作：Ctrl + z\n",
    "> *    恢复操作：Ctrl + Shift + z\n",
    "> *    上一条历史：Alt + n\n",
    "> *    下一条历史：Alt + p\n",
    "> *    加缩进：Ctrl + [\n",
    "> *    减缩进：Ctrl + ]\n",
    "> *    打印窗口：Ctrl + p\n",
    "> *    F5：运行程序"
   ]
  },
  {
   "cell_type": "markdown",
   "metadata": {
    "collapsed": true
   },
   "source": [
    "#### 4 print"
   ]
  },
  {
   "cell_type": "markdown",
   "metadata": {
    "collapsed": true
   },
   "source": [
    "* Python 默认会在每个打印出来的字母后加换行符。\n",
    "* 如果不需要这个特性，则在语句后加逗号“,”："
   ]
  },
  {
   "cell_type": "code",
   "execution_count": 1,
   "metadata": {
    "collapsed": false
   },
   "outputs": [
    {
     "name": "stdout",
     "output_type": "stream",
     "text": [
      "s\n",
      "t\n",
      "r\n",
      "i\n",
      "n\n",
      "g\n",
      "s t r i n g\n"
     ]
    }
   ],
   "source": [
    "s = \"string\"\n",
    "for eachletter in s:\n",
    "    print eachletter\n",
    "    \n",
    "for eachletter in s:\n",
    "    print eachletter,"
   ]
  },
  {
   "cell_type": "markdown",
   "metadata": {
    "collapsed": true
   },
   "source": [
    "#### 5 干涉循环行为（break/continue/pass）"
   ]
  },
  {
   "cell_type": "markdown",
   "metadata": {},
   "source": [
    "* pass：不做任何事，起占位符作用。\n",
    "* continue：告诉 Python 跳过当前循环块中的剩余语句，继续进行下一轮循环。\n",
    "* break：结束当前循环来跳转到下个语句。\n",
    "这三个语句有时和if语句一块搭配使用。"
   ]
  },
  {
   "cell_type": "code",
   "execution_count": 2,
   "metadata": {
    "collapsed": false
   },
   "outputs": [
    {
     "name": "stdout",
     "output_type": "stream",
     "text": [
      "1.0\n",
      "0.5\n",
      "0.25\n"
     ]
    }
   ],
   "source": [
    "a = [1, 0, 2, 4]\n",
    "for element in a:\n",
    "    if element == 0:\n",
    "        continue\n",
    "    print 1. / element"
   ]
  },
  {
   "cell_type": "code",
   "execution_count": 3,
   "metadata": {
    "collapsed": false
   },
   "outputs": [
    {
     "name": "stdout",
     "output_type": "stream",
     "text": [
      "(1+2j)\n",
      "(-2+4j)\n",
      "(-11-16j)\n",
      "(-134+352j)\n"
     ]
    }
   ],
   "source": [
    "z = 1 + 1j\n",
    "while True:\n",
    "    if abs(z) > 100:\n",
    "        break\n",
    "    z = z ** 2 + 1\n",
    "    print z"
   ]
  }
 ],
 "metadata": {
  "anaconda-cloud": {},
  "kernelspec": {
   "display_name": "Python [conda env:py27]",
   "language": "python",
   "name": "conda-env-py27-py"
  },
  "language_info": {
   "codemirror_mode": {
    "name": "ipython",
    "version": 2
   },
   "file_extension": ".py",
   "mimetype": "text/x-python",
   "name": "python",
   "nbconvert_exporter": "python",
   "pygments_lexer": "ipython2",
   "version": "2.7.12"
  }
 },
 "nbformat": 4,
 "nbformat_minor": 1
}
