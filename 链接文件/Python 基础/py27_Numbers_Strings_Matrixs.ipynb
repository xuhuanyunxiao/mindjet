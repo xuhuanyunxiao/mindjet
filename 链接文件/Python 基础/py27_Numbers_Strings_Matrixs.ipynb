{
 "cells": [
  {
   "cell_type": "markdown",
   "metadata": {
    "collapsed": true
   },
   "source": [
    "# 数字、字符串、矩阵"
   ]
  },
  {
   "cell_type": "markdown",
   "metadata": {
    "collapsed": true
   },
   "source": [
    "## 1 数据类型"
   ]
  },
  {
   "cell_type": "markdown",
   "metadata": {
    "collapsed": true
   },
   "source": [
    "### 1.1 整型"
   ]
  },
  {
   "cell_type": "code",
   "execution_count": 33,
   "metadata": {
    "collapsed": false
   },
   "outputs": [
    {
     "name": "stdout",
     "output_type": "stream",
     "text": [
      "['__abs__', '__add__', '__and__', '__class__', '__cmp__', '__coerce__', '__delattr__', '__div__', '__divmod__', '__doc__', '__float__', '__floordiv__', '__format__', '__getattribute__', '__getnewargs__', '__hash__', '__hex__', '__index__', '__init__', '__int__', '__invert__', '__long__', '__lshift__', '__mod__', '__mul__', '__neg__', '__new__', '__nonzero__', '__oct__', '__or__', '__pos__', '__pow__', '__radd__', '__rand__', '__rdiv__', '__rdivmod__', '__reduce__', '__reduce_ex__', '__repr__', '__rfloordiv__', '__rlshift__', '__rmod__', '__rmul__', '__ror__', '__rpow__', '__rrshift__', '__rshift__', '__rsub__', '__rtruediv__', '__rxor__', '__setattr__', '__sizeof__', '__str__', '__sub__', '__subclasshook__', '__truediv__', '__trunc__', '__xor__', 'bit_length', 'conjugate', 'denominator', 'imag', 'numerator', 'real']\n"
     ]
    }
   ],
   "source": [
    "print dir(int) # 长整型"
   ]
  },
  {
   "cell_type": "code",
   "execution_count": 5,
   "metadata": {
    "collapsed": false
   },
   "outputs": [
    {
     "name": "stdout",
     "output_type": "stream",
     "text": [
      "<type 'int'>\n",
      "<type 'bool'>\n"
     ]
    }
   ],
   "source": [
    "a = 100000  # 整数可以为任意大\n",
    "print type(a)\n",
    "a = True\n",
    "print type(a)"
   ]
  },
  {
   "cell_type": "code",
   "execution_count": 10,
   "metadata": {
    "collapsed": false
   },
   "outputs": [
    {
     "data": {
      "text/plain": [
       "10000000000000000000000000000000000000000000000000000000000000000000000000000000000000000000000000000000000000000000000000000000000000000000000000000000000000000000000000000000000000000000000000000000000000000000000000000000000000000000000000000000000000000000000000000000000000000000000000000000000000000000000000000000000000000000000000000000000000000000000000000000000000000000000000000000000000000000000000000000000000000000000000000000000000000000000000000000000000000000000000000000000000000000000000000000000000000000000000000000000000000000000000000000000000000000000000000000000000000000000000000000000000000000000000000000000000000000000000000000000000000000000000000000000000000000000000000000000000000000000000000000000000000000000000000000000000000000000000000000000000000000000000000000000000000000000000000000000000000000000000000000000000000000000000000000000000000000000000000000000000000000000000000000000000000000000000000000000000000000000000000000000000000000000000000000000000000L"
      ]
     },
     "execution_count": 10,
     "metadata": {},
     "output_type": "execute_result"
    }
   ],
   "source": [
    "a = 10\n",
    "a.bit_length()  # 表现int对象所需的位数\n"
   ]
  },
  {
   "cell_type": "code",
   "execution_count": 36,
   "metadata": {
    "collapsed": false
   },
   "outputs": [
    {
     "name": "stdout",
     "output_type": "stream",
     "text": [
      "['__abs__', '__add__', '__and__', '__class__', '__cmp__', '__coerce__', '__delattr__', '__div__', '__divmod__', '__doc__', '__float__', '__floordiv__', '__format__', '__getattribute__', '__getnewargs__', '__hash__', '__hex__', '__index__', '__init__', '__int__', '__invert__', '__long__', '__lshift__', '__mod__', '__mul__', '__neg__', '__new__', '__nonzero__', '__oct__', '__or__', '__pos__', '__pow__', '__radd__', '__rand__', '__rdiv__', '__rdivmod__', '__reduce__', '__reduce_ex__', '__repr__', '__rfloordiv__', '__rlshift__', '__rmod__', '__rmul__', '__ror__', '__rpow__', '__rrshift__', '__rshift__', '__rsub__', '__rtruediv__', '__rxor__', '__setattr__', '__sizeof__', '__str__', '__sub__', '__subclasshook__', '__truediv__', '__trunc__', '__xor__', 'bit_length', 'conjugate', 'denominator', 'imag', 'numerator', 'real']\n"
     ]
    }
   ],
   "source": [
    "print dir(bool) # 布尔型"
   ]
  },
  {
   "cell_type": "markdown",
   "metadata": {
    "collapsed": true
   },
   "source": [
    "### 1.2 浮点型"
   ]
  },
  {
   "cell_type": "code",
   "execution_count": 37,
   "metadata": {
    "collapsed": false
   },
   "outputs": [
    {
     "name": "stdout",
     "output_type": "stream",
     "text": [
      "['__abs__', '__add__', '__class__', '__coerce__', '__delattr__', '__div__', '__divmod__', '__doc__', '__eq__', '__float__', '__floordiv__', '__format__', '__ge__', '__getattribute__', '__getformat__', '__getnewargs__', '__gt__', '__hash__', '__init__', '__int__', '__le__', '__long__', '__lt__', '__mod__', '__mul__', '__ne__', '__neg__', '__new__', '__nonzero__', '__pos__', '__pow__', '__radd__', '__rdiv__', '__rdivmod__', '__reduce__', '__reduce_ex__', '__repr__', '__rfloordiv__', '__rmod__', '__rmul__', '__rpow__', '__rsub__', '__rtruediv__', '__setattr__', '__setformat__', '__sizeof__', '__str__', '__sub__', '__subclasshook__', '__truediv__', '__trunc__', 'as_integer_ratio', 'conjugate', 'fromhex', 'hex', 'imag', 'is_integer', 'real']\n"
     ]
    }
   ],
   "source": [
    "print dir(float) # 浮点型"
   ]
  },
  {
   "cell_type": "code",
   "execution_count": 14,
   "metadata": {
    "collapsed": false
   },
   "outputs": [
    {
     "name": "stdout",
     "output_type": "stream",
     "text": [
      "0.25\n"
     ]
    },
    {
     "data": {
      "text/plain": [
       "float"
      ]
     },
     "execution_count": 14,
     "metadata": {},
     "output_type": "execute_result"
    }
   ],
   "source": [
    "print 1. / 4\n",
    "type(1. / 4)"
   ]
  },
  {
   "cell_type": "code",
   "execution_count": 17,
   "metadata": {
    "collapsed": false
   },
   "outputs": [
    {
     "name": "stdout",
     "output_type": "stream",
     "text": [
      "(1, 2)\n"
     ]
    },
    {
     "data": {
      "text/plain": [
       "(3152519739159347L, 9007199254740992L)"
      ]
     },
     "execution_count": 17,
     "metadata": {},
     "output_type": "execute_result"
    }
   ],
   "source": [
    "c = 0.5\n",
    "print c.as_integer_ratio()\n",
    "b = 0.35\n",
    "b.as_integer_ratio()"
   ]
  },
  {
   "cell_type": "code",
   "execution_count": 21,
   "metadata": {
    "collapsed": false
   },
   "outputs": [
    {
     "name": "stdout",
     "output_type": "stream",
     "text": [
      "Context(prec=28, rounding=ROUND_HALF_EVEN, Emin=-999999999, Emax=999999999, capitals=1, flags=[], traps=[DivisionByZero, Overflow, InvalidOperation])\n",
      "0.09090909090909090909090909091\n"
     ]
    }
   ],
   "source": [
    "import decimal # decimal 模块为浮点数提供了任意精确度的对象，使用这些数值处理精度问题\n",
    "from decimal import Decimal\n",
    "\n",
    "print decimal.getcontext()\n",
    "d = Decimal(1) / Decimal(11)\n",
    "print d"
   ]
  },
  {
   "cell_type": "code",
   "execution_count": 22,
   "metadata": {
    "collapsed": false
   },
   "outputs": [
    {
     "name": "stdout",
     "output_type": "stream",
     "text": [
      "Context(prec=4, rounding=ROUND_HALF_EVEN, Emin=-999999999, Emax=999999999, capitals=1, flags=[Inexact, Rounded], traps=[DivisionByZero, Overflow, InvalidOperation])\n",
      "0.09091\n"
     ]
    }
   ],
   "source": [
    "# 改变context对象的属性值，以改变表示精度\n",
    "decimal.getcontext().prec = 4 # lower precision than default\n",
    "print decimal.getcontext()\n",
    "e = Decimal(1) / Decimal(11)\n",
    "print e"
   ]
  },
  {
   "cell_type": "code",
   "execution_count": 38,
   "metadata": {
    "collapsed": false
   },
   "outputs": [
    {
     "name": "stdout",
     "output_type": "stream",
     "text": [
      "['__abs__', '__add__', '__class__', '__coerce__', '__delattr__', '__div__', '__divmod__', '__doc__', '__eq__', '__float__', '__floordiv__', '__format__', '__ge__', '__getattribute__', '__getnewargs__', '__gt__', '__hash__', '__init__', '__int__', '__le__', '__long__', '__lt__', '__mod__', '__mul__', '__ne__', '__neg__', '__new__', '__nonzero__', '__pos__', '__pow__', '__radd__', '__rdiv__', '__rdivmod__', '__reduce__', '__reduce_ex__', '__repr__', '__rfloordiv__', '__rmod__', '__rmul__', '__rpow__', '__rsub__', '__rtruediv__', '__setattr__', '__sizeof__', '__str__', '__sub__', '__subclasshook__', '__truediv__', 'conjugate', 'imag', 'real']\n"
     ]
    }
   ],
   "source": [
    "print dir(complex) # 复数"
   ]
  },
  {
   "cell_type": "markdown",
   "metadata": {
    "collapsed": true
   },
   "source": [
    "### 1.3 字符串"
   ]
  },
  {
   "cell_type": "code",
   "execution_count": 27,
   "metadata": {
    "collapsed": false
   },
   "outputs": [
    {
     "name": "stdout",
     "output_type": "stream",
     "text": [
      "['__add__', '__class__', '__contains__', '__delattr__', '__doc__', '__eq__', '__format__', '__ge__', '__getattribute__', '__getitem__', '__getnewargs__', '__getslice__', '__gt__', '__hash__', '__init__', '__le__', '__len__', '__lt__', '__mod__', '__mul__', '__ne__', '__new__', '__reduce__', '__reduce_ex__', '__repr__', '__rmod__', '__rmul__', '__setattr__', '__sizeof__', '__str__', '__subclasshook__', '_formatter_field_name_split', '_formatter_parser', 'capitalize', 'center', 'count', 'decode', 'encode', 'endswith', 'expandtabs', 'find', 'format', 'index', 'isalnum', 'isalpha', 'isdigit', 'islower', 'isspace', 'istitle', 'isupper', 'join', 'ljust', 'lower', 'lstrip', 'partition', 'replace', 'rfind', 'rindex', 'rjust', 'rpartition', 'rsplit', 'rstrip', 'split', 'splitlines', 'startswith', 'strip', 'swapcase', 'title', 'translate', 'upper', 'zfill']\n"
     ]
    }
   ],
   "source": [
    "print dir(str)"
   ]
  },
  {
   "cell_type": "markdown",
   "metadata": {},
   "source": [
    "#### 1.3.1 方法"
   ]
  },
  {
   "cell_type": "code",
   "execution_count": 39,
   "metadata": {
    "collapsed": false
   },
   "outputs": [
    {
     "name": "stdout",
     "output_type": "stream",
     "text": [
      "Help on method_descriptor:\n",
      "\n",
      "strip(...)\n",
      "    S.strip([chars]) -> string or unicode\n",
      "    \n",
      "    Return a copy of the string S with leading and trailing\n",
      "    whitespace removed.\n",
      "    If chars is given and not None, remove characters in chars instead.\n",
      "    If chars is unicode, S will be converted to unicode before stripping\n",
      "\n",
      "str(object='') -> string\n",
      "\n",
      "Return a nice string representation of the object.\n",
      "If the argument is a string, the return value is the same object.\n"
     ]
    },
    {
     "data": {
      "text/plain": [
       "\"str(object='') -> string\\n\\nReturn a nice string representation of the object.\\nIf the argument is a string, the return value is the same object.\""
      ]
     },
     "execution_count": 39,
     "metadata": {},
     "output_type": "execute_result"
    }
   ],
   "source": [
    "dir(str)  # 获取对象支持的属性、方法列表\n",
    "help(str.strip) # 查看某一方法的具体使用\n",
    "print(str.__doc__) # 获取可调用对象的文档字串\n",
    "callable(printName) # 判断对象是否可调用\n",
    "str.__doc__"
   ]
  },
  {
   "cell_type": "code",
   "execution_count": 36,
   "metadata": {
    "collapsed": false
   },
   "outputs": [
    {
     "name": "stdout",
     "output_type": "stream",
     "text": [
      "['m', 'y', 'n', 'a', 'm', 'e']\n",
      "m...y...n...a...m...e\n",
      "MynaMe\n",
      "['', 'yna', 'e']\n"
     ]
    }
   ],
   "source": [
    "strmy = 'myname'\n",
    "\n",
    "print list(strmy)\n",
    "print '...'.join(list(strmy))  # 连接字符串 'm...y...n...a...m...e'\n",
    "print strmy.replace('m','M') # 替换 'MynaMe'\n",
    "print strmy.split('m') # 分割，分隔符不再显示  ['', 'yna', 'e']"
   ]
  },
  {
   "cell_type": "code",
   "execution_count": 35,
   "metadata": {
    "collapsed": false
   },
   "outputs": [
    {
     "name": "stdout",
     "output_type": "stream",
     "text": [
      "Myname\n",
      "MYNAME\n",
      "myname\n"
     ]
    }
   ],
   "source": [
    "strmy = 'myname'\n",
    "\n",
    "print strmy.capitalize() # 首字母大写 'Myname'\n",
    "print strmy.upper() # 全大写\n",
    "print strmy.lower() # 全小写"
   ]
  },
  {
   "cell_type": "code",
   "execution_count": 34,
   "metadata": {
    "collapsed": false
   },
   "outputs": [
    {
     "name": "stdout",
     "output_type": "stream",
     "text": [
      "myname\n",
      "  mynam\n"
     ]
    }
   ],
   "source": [
    "str1 = '  myname  '\n",
    "print str1.strip()  # 修剪指定空白 'myname'\n",
    "\n",
    "str2 = '  myname'\n",
    "print str2.strip('e') #  修剪字符 '  mynam'"
   ]
  },
  {
   "cell_type": "code",
   "execution_count": 40,
   "metadata": {
    "collapsed": false
   },
   "outputs": [
    {
     "name": "stdout",
     "output_type": "stream",
     "text": [
      "['this', 'is', 'a', 'string', 'object']\n",
      "10\n",
      "-1\n",
      "this|is|a|string|object\n"
     ]
    }
   ],
   "source": [
    "t = 'this is a string object'\n",
    "\n",
    "print t.split()\n",
    "print t.find('string') # 如果单词存在，则返回该词第一个字母的位置（即索引值）\n",
    "print t.find('Python') # 如果单词不存在，则返回-1\n",
    "print t.replace(' ','|') # 空格也是一个字符？？"
   ]
  },
  {
   "cell_type": "code",
   "execution_count": 6,
   "metadata": {
    "collapsed": false
   },
   "outputs": [
    {
     "name": "stdout",
     "output_type": "stream",
     "text": [
      "\n",
      "'01/18/2004 13:00:00', 100, '1st';\n",
      "'01/18/2004 13:30:00', 110, '2nd';\n",
      "'01/18/2004 14:00:00', 120, '3rd';\n",
      "\n",
      "<_sre.SRE_Pattern object at 0x0000000004456418>\n"
     ]
    },
    {
     "data": {
      "text/plain": [
       "[\"'01/18/2004 13:00:00'\", \"'01/18/2004 13:30:00'\", \"'01/18/2004 14:00:00'\"]"
      ]
     },
     "execution_count": 6,
     "metadata": {},
     "output_type": "execute_result"
    }
   ],
   "source": [
    "import re\n",
    "\n",
    "series = '''\n",
    "'01/18/2004 13:00:00', 100, '1st';\n",
    "'01/18/2004 13:30:00', 110, '2nd';\n",
    "'01/18/2004 14:00:00', 120, '3rd';\n",
    "'''\n",
    "print(series)\n",
    "\n",
    "dt = re.compile(\"'[0-9/:\\s]+'\") # datetime\n",
    "print(dt)\n",
    "\n",
    "result = dt.findall(series)\n",
    "result"
   ]
  },
  {
   "cell_type": "code",
   "execution_count": 10,
   "metadata": {
    "collapsed": false
   },
   "outputs": [
    {
     "name": "stdout",
     "output_type": "stream",
     "text": [
      "2004-01-18 13:00:00\n",
      "<type 'datetime.datetime'>\n"
     ]
    }
   ],
   "source": [
    "from datetime import datetime\n",
    "\n",
    "pydt = datetime.strptime(result[0].replace(\"'\",\"\"),'%m/%d/%Y %H:%M:%S')\n",
    "print(pydt)\n",
    "print(type(pydt))"
   ]
  },
  {
   "cell_type": "markdown",
   "metadata": {},
   "source": [
    "#### 1.3.2 文档字串"
   ]
  },
  {
   "cell_type": "code",
   "execution_count": 45,
   "metadata": {
    "collapsed": false
   },
   "outputs": [
    {
     "name": "stdout",
     "output_type": "stream",
     "text": [
      "hello python\n",
      "None\n",
      "\n",
      "test function\n",
      "\n",
      "hello python\n",
      "None\n"
     ]
    }
   ],
   "source": [
    "def printName():\n",
    "\t'test function'\n",
    "\tprint('hello python')\n",
    "\n",
    "print printName()\n",
    "print \n",
    "print printName.__doc__\n",
    "print \n",
    "print printName().__doc__"
   ]
  },
  {
   "cell_type": "markdown",
   "metadata": {
    "collapsed": true
   },
   "source": [
    "## 2 组合数据类型"
   ]
  },
  {
   "cell_type": "markdown",
   "metadata": {},
   "source": [
    "* 列表和元组都使用切片方法来访问元素，数字索引从0开始计数。\n",
    "* 通过切片（[]和[:]),列表和元组可以得到子集。列表的子集是列表，元组切片后结果还是元组（不可改变)。"
   ]
  },
  {
   "cell_type": "markdown",
   "metadata": {
    "collapsed": true
   },
   "source": [
    "### 2.1 列表"
   ]
  },
  {
   "cell_type": "markdown",
   "metadata": {},
   "source": [
    "* 处理一组有序项目的数据结构\n",
    "* [](中括号）：元素建立\n",
    "* 可变数据类型：元素的个数和值可以改变。\n",
    "* 支持+、*、和 in 方法"
   ]
  },
  {
   "cell_type": "code",
   "execution_count": 2,
   "metadata": {
    "collapsed": false
   },
   "outputs": [
    {
     "name": "stdout",
     "output_type": "stream",
     "text": [
      "['__add__', '__class__', '__contains__', '__delattr__', '__delitem__', '__delslice__', '__doc__', '__eq__', '__format__', '__ge__', '__getattribute__', '__getitem__', '__getslice__', '__gt__', '__hash__', '__iadd__', '__imul__', '__init__', '__iter__', '__le__', '__len__', '__lt__', '__mul__', '__ne__', '__new__', '__reduce__', '__reduce_ex__', '__repr__', '__reversed__', '__rmul__', '__setattr__', '__setitem__', '__setslice__', '__sizeof__', '__str__', '__subclasshook__', 'append', 'count', 'extend', 'index', 'insert', 'pop', 'remove', 'reverse', 'sort']\n"
     ]
    }
   ],
   "source": [
    "print dir(list)"
   ]
  },
  {
   "cell_type": "code",
   "execution_count": 1,
   "metadata": {
    "collapsed": false
   },
   "outputs": [
    {
     "name": "stdout",
     "output_type": "stream",
     "text": [
      "['red', 'blue', 'green', 'black', 'white']\n",
      "<type 'list'>\n"
     ]
    }
   ],
   "source": [
    "L = ['red','blue','green','black','white'] \n",
    "print L\n",
    "print type(L)"
   ]
  },
  {
   "cell_type": "markdown",
   "metadata": {},
   "source": [
    "#### 2.1.1 方法\n",
    "* 对于同一类型的数值数据，推荐使用运行效率更高的numpy来进行处理"
   ]
  },
  {
   "cell_type": "code",
   "execution_count": 17,
   "metadata": {
    "collapsed": false
   },
   "outputs": [
    {
     "name": "stdout",
     "output_type": "stream",
     "text": [
      "['red', 'blue', 'green', 'black', 'white']\n",
      "['red', 'blue', 'green', 'black', 'white', 'pink']\n",
      "['red', 'blue', 'green', 'black', 'white'] pink\n",
      "['blue', 'green', 'black', 'white'] red\n",
      "['blue', 'green', 'black', 'white', 'pink', 'purple', 'purple']\n",
      "['blue', 'green', 'black', 'white', 'pink', 'purple']\n",
      "pink\n"
     ]
    }
   ],
   "source": [
    "LM = ['red','blue','green','black','white']\n",
    "print LM \n",
    "\n",
    "LM.append('pink') # 列表尾部添加一个元素\n",
    "print LM \n",
    "\n",
    "popped = LM.pop() # 删除并返回列表最后一个元素\n",
    "print LM,popped\n",
    "\n",
    "popped2 = LM.pop(0)\n",
    "print LM,popped2\n",
    "\n",
    "LM.extend(['pink','purple','purple'])       # 讲extend后的序列添加到列表中，extend后的内容应该是可迭代的\n",
    "print LM\n",
    "\n",
    "LM.remove('purple')                       # 删除指定值的一个元素\n",
    "print LM\n",
    "print popped"
   ]
  },
  {
   "cell_type": "code",
   "execution_count": 7,
   "metadata": {
    "collapsed": false
   },
   "outputs": [
    {
     "name": "stdout",
     "output_type": "stream",
     "text": [
      "['purple', 'pink', 'white', 'black', 'green', 'blue']\n",
      "<built-in method reverse of list object at 0x00000000044D0588>\n",
      "['purple', 'pink', 'white', 'black', 'green', 'blue']\n",
      "['purple', 'pink', 'white', 'black', 'green', 'blue', 'purple', 'pink', 'white', 'black', 'green', 'blue']\n",
      "['purple', 'pink', 'white', 'black', 'green', 'blue', 'purple', 'pink', 'white', 'black', 'green', 'blue']\n"
     ]
    }
   ],
   "source": [
    "print LM[::-1]\n",
    "\n",
    "LL = LM.reverse   #此时已经调用完原地翻转列表方法\n",
    "LL()\n",
    "\n",
    "print LL\n",
    "print LM\n",
    "print LM*2       #也可以像字符串一样用*方法\n",
    "print LM+LM      #也可以像字符串一样用+方法，但+方法不能直接增加元素。"
   ]
  },
  {
   "cell_type": "code",
   "execution_count": 20,
   "metadata": {
    "collapsed": false
   },
   "outputs": [
    {
     "name": "stdout",
     "output_type": "stream",
     "text": [
      "[2.5, 1, 'data']\n",
      "[1, 2.5, 'data']\n",
      "[1, 2.5, 'data']\n"
     ]
    }
   ],
   "source": [
    "M = [2.5,1,'data']\n",
    "print M\n",
    "\n",
    "Mnew = sorted(M)\n",
    "print Mnew\n",
    "\n",
    "M.sort()\n",
    "print M"
   ]
  },
  {
   "cell_type": "markdown",
   "metadata": {},
   "source": [
    "* 判断某个元素是否在列表中，可以使用in 方法"
   ]
  },
  {
   "cell_type": "code",
   "execution_count": 9,
   "metadata": {
    "collapsed": false
   },
   "outputs": [
    {
     "name": "stdout",
     "output_type": "stream",
     "text": [
      "False\n",
      "Ok\n"
     ]
    }
   ],
   "source": [
    "LL_law = ['red', 'blue', 'Ruby', 'sapphire', 'white', 42, False]\n",
    "my_precious = \"silmarils\"\n",
    "\n",
    "print my_precious in LL_law\n",
    "\n",
    "if \"Ruby\" in LL_law:\n",
    "    print \"Ok\""
   ]
  },
  {
   "cell_type": "markdown",
   "metadata": {},
   "source": [
    "#### 2.1.2 切片"
   ]
  },
  {
   "cell_type": "code",
   "execution_count": 6,
   "metadata": {
    "collapsed": false
   },
   "outputs": [
    {
     "name": "stdout",
     "output_type": "stream",
     "text": [
      "red white\n",
      "['green', 'black']\n",
      "['red', 'blue', 'green'] ['red', 'green', 'white']\n"
     ]
    }
   ],
   "source": [
    "L = ['red','blue','green','black','white'] \n",
    "\n",
    "print L[0],L[-1]\n",
    "print L[2:4]\n",
    "print L[:3],L[::2]"
   ]
  },
  {
   "cell_type": "markdown",
   "metadata": {},
   "source": [
    "#### 2.1.3 修改"
   ]
  },
  {
   "cell_type": "code",
   "execution_count": 21,
   "metadata": {
    "collapsed": false
   },
   "outputs": [],
   "source": [
    "listmy1 = [1,2,3]\n",
    "listmy2 = [1,'a']\n",
    "listmy3 = [[1,2,3],['a','b','c']]\n",
    "\n",
    "listmy1[1] = 222 # 修改元素 [1, 222, 3]\n",
    "listmy1[2] = 'abc' # 修改元素，可以异构 [1, 222, 'abc']\n",
    "listmy1[1] = [] # 指定元素为空 [1, [], 'abc']\n",
    "del(listmy1[2]) # 删除第三个元素  [1, []]"
   ]
  },
  {
   "cell_type": "code",
   "execution_count": null,
   "metadata": {
    "collapsed": true
   },
   "outputs": [],
   "source": [
    "listmy1.append(7777) # 末尾加入元素 [1, [], 7777]\n",
    "listmy1.append(listmy2) # 加入列表 [1, [], 7777, [1, 'a']]\n",
    "listmy1.extend(listmy3) # 扩展列表，与加入时不同，此时并列\n",
    "# [1, [], 7777, [1, 'a'], [1, 2, 3], ['a', 'b', 'c']]\n",
    "listmy1.insert(1,'myname') # 指定位置插入元素\n",
    "# [1, 'myname', [], 7777, [1, 'a'], [1, 2, 3], ['a', 'b', 'c']]\n",
    "listmy1.pop() # 按索引删除，默认为最后一个\n",
    "# [1, 'myname', [], 7777, [1, 'a'], [1, 2, 3]]\n",
    "listmy1.pop(1) # 弹出指定位置元素  'myname'\n",
    "# [1, [], 7777, [1, 'a'], [1, 2, 3]]\n",
    "listmy1.remove(7777) # 删除指定值的元素\n",
    "# [1, [], [1, 'a'], [1, 2, 3]]\n",
    "listmy1.reverse() # 原处逆序\n",
    "# [[1, 2, 3], [1, 'a'], [], 1]\n",
    "##listmy1.sort() # 排序"
   ]
  },
  {
   "cell_type": "code",
   "execution_count": null,
   "metadata": {
    "collapsed": true
   },
   "outputs": [],
   "source": [
    "listmy1 = [1,2,3]\n",
    "listmy2 = ['a','b','c']\n",
    "listmy1 + listmy2 # 合并序列，生成新序列，原序列不变\n",
    "# [1, 2, 3, 'a', 'b', 'c']\n",
    "listmy1 * 3 # 列表重复3次，生成新列表\n",
    "# [1, 2, 3, 1, 2, 3, 1, 2, 3]\n",
    "2 in  listmy1 # in 成员关系判断:2是否在列表中是否为真   True\n",
    "4 not in listmy1 # 4 不在列表中是否为真   True"
   ]
  },
  {
   "cell_type": "markdown",
   "metadata": {},
   "source": [
    "#### 2.1.4 复制\n",
    "* 浅复制\n",
    "* 深复制"
   ]
  },
  {
   "cell_type": "code",
   "execution_count": 45,
   "metadata": {
    "collapsed": false
   },
   "outputs": [
    {
     "name": "stdout",
     "output_type": "stream",
     "text": [
      "71963912 71963912\n",
      "[4, 2, 3]\n",
      "[4, 2, 3]\n"
     ]
    }
   ],
   "source": [
    "listmy1 = [1,2,3]  # [1, 2, 3]\n",
    "listmy2 = listmy1 # 浅复制：两个列表一致，修改一个，另一个也会变化  # [1, 2, 3]\n",
    "\n",
    "print id(listmy1),id(listmy2)\n",
    "\n",
    "listmy1[0]=4 \n",
    "print listmy1 # [4, 2, 3]\n",
    "print listmy2 # [4, 2, 3]"
   ]
  },
  {
   "cell_type": "code",
   "execution_count": 46,
   "metadata": {
    "collapsed": false
   },
   "outputs": [
    {
     "name": "stdout",
     "output_type": "stream",
     "text": [
      "68062536\n",
      "[5, 2, 3]\n",
      "[5, 2, 3]\n",
      "[4, 2, 3]\n",
      "68061960\n",
      "[5, 2, 3]\n"
     ]
    }
   ],
   "source": [
    "listmy3 = listmy1[:] # 深复制：两个独立列表   # [4, 2, 3]\n",
    "print id(listmy3) \n",
    "listmy1[0] = 5\n",
    "print listmy1 # [5, 2, 3]\n",
    "print listmy2 # [5, 2, 3]\n",
    "print listmy3 # [4, 2, 3]\n",
    "\n",
    "import copy\n",
    "listmy4 = copy.deepcopy(listmy1) # 深复制：两个独立列表# [5, 2, 3]\n",
    "print id(listmy4) # 2265397200712\n",
    "print listmy4"
   ]
  },
  {
   "cell_type": "markdown",
   "metadata": {
    "collapsed": true
   },
   "source": [
    "### 2.2 元组"
   ]
  },
  {
   "cell_type": "markdown",
   "metadata": {},
   "source": [
    "* () ：元素建立，元素之间以逗号隔开。(1,)，单个元素后面须有，\n",
    "* 不可变数据类型：可以看作只读的列表\n",
    "* 支持+、*、和 in 方法"
   ]
  },
  {
   "cell_type": "code",
   "execution_count": 10,
   "metadata": {
    "collapsed": false
   },
   "outputs": [
    {
     "name": "stdout",
     "output_type": "stream",
     "text": [
      "['__add__', '__class__', '__contains__', '__delattr__', '__doc__', '__eq__', '__format__', '__ge__', '__getattribute__', '__getitem__', '__getnewargs__', '__getslice__', '__gt__', '__hash__', '__init__', '__iter__', '__le__', '__len__', '__lt__', '__mul__', '__ne__', '__new__', '__reduce__', '__reduce_ex__', '__repr__', '__rmul__', '__setattr__', '__sizeof__', '__str__', '__subclasshook__', 'count', 'index']\n"
     ]
    }
   ],
   "source": [
    "print dir(tuple)"
   ]
  },
  {
   "cell_type": "code",
   "execution_count": 14,
   "metadata": {
    "collapsed": false
   },
   "outputs": [
    {
     "name": "stdout",
     "output_type": "stream",
     "text": [
      "(1, 2.5, 'data')\n",
      "1\n",
      "1\n"
     ]
    }
   ],
   "source": [
    "t = (1,2.5,'data')\n",
    "print t\n",
    "print t.count('data') # 出现次数\n",
    "print t.index(2.5)  # 第一次出现位置的索引值"
   ]
  },
  {
   "cell_type": "markdown",
   "metadata": {},
   "source": [
    "#### 2.2.1 方法"
   ]
  },
  {
   "cell_type": "code",
   "execution_count": 11,
   "metadata": {
    "collapsed": false
   },
   "outputs": [
    {
     "name": "stdout",
     "output_type": "stream",
     "text": [
      "(1, 2, 3, 4)\n",
      "\n",
      "1\n",
      "\n",
      "False\n",
      "False\n",
      "\n",
      "4\n"
     ]
    }
   ],
   "source": [
    "tuplemy1 = (1,2,3,4)\n",
    "print tuplemy1\n",
    "print \n",
    "print tuplemy1.count(2) # 计数 1\n",
    "print \n",
    "print 30 in tuplemy1 # False\n",
    "print 4 not in tuplemy1  # False\n",
    "print \n",
    "print len(tuplemy1) # 4"
   ]
  },
  {
   "cell_type": "code",
   "execution_count": 54,
   "metadata": {
    "collapsed": false
   },
   "outputs": [
    {
     "name": "stdout",
     "output_type": "stream",
     "text": [
      "('x', 'y', 'z')\n",
      "(1, 2, 3, 4, 'x', 'y', 'z')\n",
      "(1, 2, 3, 4, 1, 2, 3, 4, 1, 2, 3, 4)\n"
     ]
    }
   ],
   "source": [
    "tuplemy2 = 'x','y','z'\n",
    "print tuplemy2\n",
    "print tuplemy1 + tuplemy2  # (1, 2, 3, 4, 'x', 'y', 'z')\n",
    "print tuplemy1 *3  # (1, 2, 3, 4, 1, 2, 3, 4, 1, 2, 3, 4)"
   ]
  },
  {
   "cell_type": "markdown",
   "metadata": {},
   "source": [
    "#### 2.2.2 修改（非真正改变）"
   ]
  },
  {
   "cell_type": "code",
   "execution_count": 53,
   "metadata": {
    "collapsed": false
   },
   "outputs": [
    {
     "name": "stdout",
     "output_type": "stream",
     "text": [
      "('x', [1, 2, 3])\n",
      "('x', [1, 2])\n",
      "68622088\n",
      "68622088\n",
      "68622088\n"
     ]
    }
   ],
   "source": [
    "tuplemy3 = ('x',[1,2,3]) # ('x', [1, 2, 3])\n",
    "print tuplemy3\n",
    "tuplemy3[1].pop() # 元组本身不可变，但若其元素可变，其内容也是可变的，不返回新元组\n",
    "print tuplemy3  # ('x', [1, 2])\n",
    "print id(tuplemy3) # 2265396343240\n",
    "tuplemy3[1].append(3)\n",
    "print id(tuplemy3) # ('x', [1, 2, 3])\n",
    "print id(tuplemy3) # 2265396343240"
   ]
  },
  {
   "cell_type": "markdown",
   "metadata": {
    "collapsed": true
   },
   "source": [
    "### 2.3 字典"
   ]
  },
  {
   "cell_type": "markdown",
   "metadata": {},
   "source": [
    "* {}：花括号扩起来，形如{key1:value1,key2:value2,key3:value3}。key是非重复的，value和key一一对应，不需要非重复。\n",
    "* 可变数据类型\n",
    "* 删除字典中的某些键 使用del somedict[some_key]"
   ]
  },
  {
   "cell_type": "code",
   "execution_count": 19,
   "metadata": {
    "collapsed": false
   },
   "outputs": [
    {
     "name": "stdout",
     "output_type": "stream",
     "text": [
      "['__class__', '__cmp__', '__contains__', '__delattr__', '__delitem__', '__doc__', '__eq__', '__format__', '__ge__', '__getattribute__', '__getitem__', '__gt__', '__hash__', '__init__', '__iter__', '__le__', '__len__', '__lt__', '__ne__', '__new__', '__reduce__', '__reduce_ex__', '__repr__', '__setattr__', '__setitem__', '__sizeof__', '__str__', '__subclasshook__', 'clear', 'copy', 'fromkeys', 'get', 'has_key', 'items', 'iteritems', 'iterkeys', 'itervalues', 'keys', 'pop', 'popitem', 'setdefault', 'update', 'values', 'viewitems', 'viewkeys', 'viewvalues']\n"
     ]
    }
   ],
   "source": [
    "print dir(dict)"
   ]
  },
  {
   "cell_type": "markdown",
   "metadata": {},
   "source": [
    "#### 2.3.1 方法"
   ]
  },
  {
   "cell_type": "code",
   "execution_count": 23,
   "metadata": {
    "collapsed": false
   },
   "outputs": [
    {
     "name": "stdout",
     "output_type": "stream",
     "text": [
      "<dictionary-keyiterator object at 0x00000000045B7AE8>\n",
      "<dictionary-valueiterator object at 0x00000000045B7AE8>\n",
      "<dictionary-itemiterator object at 0x00000000045B7AE8>\n"
     ]
    }
   ],
   "source": [
    "language={\"Scala\":\"Martin Odersky\",\"Clojure\":\"Richy Hickey\",\\\n",
    "          \"C\":\"Dennis Ritchie\",\"Standard ML\":\"Robin Milner\"}\n",
    "print language.iterkeys()  # 取得上述内容的iterable\n",
    "print language.itervalues()\n",
    "print language.iteritems()"
   ]
  },
  {
   "cell_type": "code",
   "execution_count": 26,
   "metadata": {
    "collapsed": false
   },
   "outputs": [
    {
     "name": "stdout",
     "output_type": "stream",
     "text": [
      "['Standard ML', 'C', 'Clojure', 'Scala']\n",
      "['Robin Milner', 'Dennis Ritchie', 'Richy Hickey', 'Martin Odersky']\n",
      "[('Standard ML', 'Robin Milner'), ('C', 'Dennis Ritchie'), ('Clojure', 'Richy Hickey'), ('Scala', 'Martin Odersky')]\n"
     ]
    }
   ],
   "source": [
    "print language.keys()\n",
    "print language.values()\n",
    "print language.items()"
   ]
  },
  {
   "cell_type": "code",
   "execution_count": 21,
   "metadata": {
    "collapsed": false
   },
   "outputs": [
    {
     "name": "stdout",
     "output_type": "stream",
     "text": [
      "Robin Milner\n",
      "Guido van Rossum\n"
     ]
    }
   ],
   "source": [
    "print language['Standard ML']  # 取得某个键对应的值\n",
    "language[\"Python\"]=\"Guido van Rossum\"  # 增加一个键值对\n",
    "print language['Python']  "
   ]
  },
  {
   "cell_type": "code",
   "execution_count": 22,
   "metadata": {
    "collapsed": false
   },
   "outputs": [
    {
     "name": "stdout",
     "output_type": "stream",
     "text": [
      "key=Python,value=Guido van Rossum\n",
      "key=Standard ML,value=Robin Milner\n",
      "key=C,value=Dennis Ritchie\n",
      "key=Clojure,value=Richy Hickey\n",
      "key=Scala,value=Martin Odersky\n"
     ]
    }
   ],
   "source": [
    "for key in language:   # 迭代器\n",
    "    print 'key={0},value={1}'.format(key,language[key])"
   ]
  },
  {
   "cell_type": "code",
   "execution_count": 57,
   "metadata": {
    "collapsed": false
   },
   "outputs": [
    {
     "name": "stdout",
     "output_type": "stream",
     "text": [
      "True\n",
      "True\n",
      "They hardly understand IT\n",
      "Guido van Rossum\n"
     ]
    }
   ],
   "source": [
    "print  language.has_key('Scala')  # 使用键之前可以先判断其是否在字典中然后再取\n",
    "print 'Ruby' in language  \n",
    "print language.get(\"Haskell\",\"They hardly understand IT\")  # 或者使用一个非常有用的方法：dict.get(key,default=None)\n",
    "print language.get(\"Python\",None)"
   ]
  },
  {
   "cell_type": "code",
   "execution_count": 24,
   "metadata": {
    "collapsed": false
   },
   "outputs": [
    {
     "name": "stdout",
     "output_type": "stream",
     "text": [
      "Matz is a short form, renew it.\n",
      "Yukihiro Matsumoto is the full name of Ruby's Creator.\n"
     ]
    }
   ],
   "source": [
    "language[\"Ruby\"] = \"Matz\"   # 向字典中添加键值对，或者根据键更新值\n",
    "print language[\"Ruby\"] + \" is a short form, renew it.\"\n",
    "\n",
    "language[\"Ruby\"] = \"Yukihiro Matsumoto\"\n",
    "print language[\"Ruby\"] + \" is the full name of Ruby's Creator.\""
   ]
  },
  {
   "cell_type": "code",
   "execution_count": 60,
   "metadata": {
    "collapsed": false
   },
   "outputs": [
    {
     "name": "stdout",
     "output_type": "stream",
     "text": [
      "{'y': [1, 2, 3, 4], 'x': 32}\n",
      "[('y', [1, 2, 3, 4]), ('x', 32)]\n",
      "('y', [1, 2, 3, 4])\n",
      "('x', 32)\n",
      "y\n",
      "x\n",
      "['y', 'x']\n",
      "[[1, 2, 3, 4], 32]\n",
      "{'y': [1, 2, 3, 4]}\n",
      "{'x': 1, 'z': 3}\n",
      "{'y': 444, 'x': 1, 'm': 3, 'n': 4}\n",
      "{'gender': 'm', 'age': 32, 'name': 'Jerry'}\n"
     ]
    }
   ],
   "source": [
    "dictmy1 = {'x':32,'y':[1,2,3,4]}\n",
    "print dictmy1\n",
    "dictmy1.get('y') # [1, 2, 3, 4]\n",
    "dictmy1.get('a') # 字典中没有a，返回为空，但不抛出异常\n",
    "# dictmy1('a') # 会抛出异常"
   ]
  },
  {
   "cell_type": "code",
   "execution_count": 62,
   "metadata": {
    "collapsed": false
   },
   "outputs": [
    {
     "name": "stdout",
     "output_type": "stream",
     "text": [
      "[('y', [1, 2, 3, 4]), ('x', 32)]\n",
      "('y', [1, 2, 3, 4])\n",
      "('x', 32)\n",
      "y\n",
      "x\n",
      "['y', 'x']\n",
      "[[1, 2, 3, 4], 32]\n"
     ]
    }
   ],
   "source": [
    "dictmy1 = {'x':32,'y':[1,2,3,4]}\n",
    "print dictmy1.items() # 将字典内元素转成列表[元组()]\n",
    "# dict_items([('x', 504), ('y', [1, 2, 3, 4])])\n",
    "d1,d2 = dictmy1.items() # 变量解包\n",
    "print d1 # ('x', 504)\n",
    "print d2 # ('y', [1, 2, 3, 4])\n",
    "m1,m2 = {'x':1,'y':2}\n",
    "print m1 # 'x'\n",
    "print m2 # 'y'\n",
    "print dictmy1.keys() # dict_keys(['x', 'y'])\n",
    "print dictmy1.values() # dict_values([504, [1, 2, 3, 4]])"
   ]
  },
  {
   "cell_type": "code",
   "execution_count": 63,
   "metadata": {
    "collapsed": false
   },
   "outputs": [
    {
     "name": "stdout",
     "output_type": "stream",
     "text": [
      "{'y': [1, 2, 3, 4]}\n",
      "{'x': 1, 'z': 3}\n"
     ]
    }
   ],
   "source": [
    "dictmy1.pop('x') # 504\n",
    "print dictmy1 # {'y': [1, 2, 3, 4]}\n",
    "dictmy2 = {'x':1,'y':2,'z':3}\n",
    "dictmy2.popitem() # 随机删除元素 ('x', 1)\n",
    "print dictmy2 # {'y': 2, 'z': 3}"
   ]
  },
  {
   "cell_type": "code",
   "execution_count": 64,
   "metadata": {
    "collapsed": false
   },
   "outputs": [
    {
     "name": "stdout",
     "output_type": "stream",
     "text": [
      "{'y': 444, 'x': 1, 'm': 3, 'n': 4}\n",
      "{'gender': 'm', 'age': 32, 'name': 'Jerry'}\n"
     ]
    }
   ],
   "source": [
    "dictmy1 = {'x':1,'y':2}\n",
    "dictmy2 = {'m':3,'n':4,'y':444}\n",
    "dictmy1.update(dictmy2) # 用字典2更新字典1，相同关键字会覆盖\n",
    "print dictmy1 # {'x': 1, 'm': 3, 'y': 444, 'n': 4}\n",
    "\n",
    "dictmy1 = dict(name = 'Jerry',age = 32,gender = 'm')\n",
    "print dictmy1    # {'gender': 'm', 'name': 'Jerry', 'age': 32}"
   ]
  },
  {
   "cell_type": "markdown",
   "metadata": {},
   "source": [
    "#### 2.3.2 修改"
   ]
  },
  {
   "cell_type": "code",
   "execution_count": 56,
   "metadata": {
    "collapsed": false
   },
   "outputs": [
    {
     "name": "stdout",
     "output_type": "stream",
     "text": [
      "[1, 2, 3, 4]\n",
      "3\n",
      "2\n",
      "{'y': [1, 2, 3, 4], 'x': 504}\n",
      "{}\n"
     ]
    }
   ],
   "source": [
    "dictmy1 = {'x':32,'y':[1,2,3,4]} # {'x': 32, 'y': [1, 2, 3, 4]}\n",
    "print dictmy1['y'] # [1, 2, 3, 4]\n",
    "print dictmy1['y'][2] # 3\n",
    "print len(dictmy1) # 返回元素个数  2\n",
    "dictmy1['x'] = 504 # 修改字典\n",
    "print dictmy1 # {'x': 504, 'y': [1, 2, 3, 4]}\n",
    "dictmy1.clear() # 清除字典内所有元素\n",
    "print dictmy1"
   ]
  },
  {
   "cell_type": "markdown",
   "metadata": {},
   "source": [
    "#### 2.3.3 复制"
   ]
  },
  {
   "cell_type": "code",
   "execution_count": 58,
   "metadata": {
    "collapsed": false
   },
   "outputs": [
    {
     "name": "stdout",
     "output_type": "stream",
     "text": [
      "68049640\n",
      "68049640\n",
      "68056744\n"
     ]
    }
   ],
   "source": [
    "dictmy2 = dictmy1 # 浅复制\n",
    "dictmy3 = dictmy1.copy() # 深复制\n",
    "print id(dictmy1) \n",
    "print id(dictmy2) \n",
    "print id(dictmy3) "
   ]
  },
  {
   "cell_type": "markdown",
   "metadata": {
    "collapsed": true
   },
   "source": [
    "### 2.4 集合"
   ]
  },
  {
   "cell_type": "markdown",
   "metadata": {
    "collapsed": true
   },
   "source": [
    "* {}：用花括号来定义\n",
    "* 用集合操作来进行运算，用set或者frozenset转化其他序列\n",
    "* 可变数据类型：Set 集合\n",
    "* 不可变数据类型：Frozenset 冻结集合\n",
    "> 集合之间的所有基本操作，对于set和frozenset都适用。"
   ]
  },
  {
   "cell_type": "code",
   "execution_count": 12,
   "metadata": {
    "collapsed": false
   },
   "outputs": [
    {
     "name": "stdout",
     "output_type": "stream",
     "text": [
      "['__and__', '__class__', '__cmp__', '__contains__', '__delattr__', '__doc__', '__eq__', '__format__', '__ge__', '__getattribute__', '__gt__', '__hash__', '__iand__', '__init__', '__ior__', '__isub__', '__iter__', '__ixor__', '__le__', '__len__', '__lt__', '__ne__', '__new__', '__or__', '__rand__', '__reduce__', '__reduce_ex__', '__repr__', '__ror__', '__rsub__', '__rxor__', '__setattr__', '__sizeof__', '__str__', '__sub__', '__subclasshook__', '__xor__', 'add', 'clear', 'copy', 'difference', 'difference_update', 'discard', 'intersection', 'intersection_update', 'isdisjoint', 'issubset', 'issuperset', 'pop', 'remove', 'symmetric_difference', 'symmetric_difference_update', 'union', 'update']\n"
     ]
    }
   ],
   "source": [
    "print dir(set)"
   ]
  },
  {
   "cell_type": "code",
   "execution_count": 13,
   "metadata": {
    "collapsed": false
   },
   "outputs": [
    {
     "name": "stdout",
     "output_type": "stream",
     "text": [
      "['__and__', '__class__', '__cmp__', '__contains__', '__delattr__', '__doc__', '__eq__', '__format__', '__ge__', '__getattribute__', '__gt__', '__hash__', '__init__', '__iter__', '__le__', '__len__', '__lt__', '__ne__', '__new__', '__or__', '__rand__', '__reduce__', '__reduce_ex__', '__repr__', '__ror__', '__rsub__', '__rxor__', '__setattr__', '__sizeof__', '__str__', '__sub__', '__subclasshook__', '__xor__', 'copy', 'difference', 'intersection', 'isdisjoint', 'issubset', 'issuperset', 'symmetric_difference', 'union']\n"
     ]
    }
   ],
   "source": [
    "print dir(frozenset)"
   ]
  },
  {
   "cell_type": "markdown",
   "metadata": {},
   "source": [
    "#### 2.4.1 方法"
   ]
  },
  {
   "cell_type": "code",
   "execution_count": 16,
   "metadata": {
    "collapsed": false
   },
   "outputs": [
    {
     "name": "stdout",
     "output_type": "stream",
     "text": [
      "set(['Undead', 'Xmen', 'Humans', 'Orcs', 'Night Elves'])\n",
      "set(['Undead', 'No.17', 'No.16', 'No.18', 'Humans', 'Orcs', 'Night Elves', 'Xmen'])\n",
      "set(['Undead', 'Humans', 'Orcs', 'Night Elves'])\n"
     ]
    }
   ],
   "source": [
    "test_set.add('Xmen')\n",
    "print test_set\n",
    "\n",
    "test_set.update(['No.16','No.17','No.18'])\n",
    "print test_set\n",
    "\n",
    "for item in ['Xmen','No.16','No.17','No.18']:\n",
    "    test_set.remove(item)\n",
    "print test_set"
   ]
  },
  {
   "cell_type": "code",
   "execution_count": 17,
   "metadata": {
    "collapsed": false
   },
   "outputs": [
    {
     "name": "stdout",
     "output_type": "stream",
     "text": [
      "set(['Undead', 'Humans', 'Orcs', 'Night Elves', 'Xmen'])\n",
      "set(['Undead', 'No.17', 'No.16', 'No.18', 'Humans', 'Orcs', 'Night Elves', 'Xmen'])\n",
      "set(['Undead', 'Humans', 'Orcs', 'Night Elves'])\n"
     ]
    }
   ],
   "source": [
    "test_set.add('Xmen')\n",
    "print test_set\n",
    "\n",
    "test_set.update(['No.16','No.17','No.18'])\n",
    "print test_set\n",
    "\n",
    "for item in ['Xmen','No.16','No.17','No.18']:\n",
    "    test_set.remove(item)\n",
    "print test_set"
   ]
  },
  {
   "cell_type": "code",
   "execution_count": 65,
   "metadata": {
    "collapsed": false
   },
   "outputs": [
    {
     "name": "stdout",
     "output_type": "stream",
     "text": [
      "set([2, 3, 4])\n",
      "<type 'set'>\n",
      "set(['y', 'x', 'z'])\n",
      "set(['x', 'z'])\n",
      "set(['x', 2, 3, 4, 'z'])\n",
      "set([7777, 2, 3, 4, 'x', 'z'])\n",
      "set([7777, 2, 3, 4, 'Jerry', 'x', 'z'])\n"
     ]
    }
   ],
   "source": [
    "setmy1 = set([2,3,4])\n",
    "print setmy1\n",
    "print type(setmy1) # <class 'set'>\n",
    "\n",
    "setmy3 = set('xyz')\n",
    "print setmy3 # {'z', 'y', 'x'}\n",
    "\n",
    "setmy3.pop() # 'z'\n",
    "print setmy3 # {'y', 'x'}\n",
    "\n",
    "setmy1.update(setmy3)\n",
    "print setmy1 # {'y', 2, 3, 4, 'x'}\n",
    "\n",
    "setmy1.add(7777)\n",
    "print setmy1 # {7777, 2, 'y', 3, 4, 'x'}\n",
    "\n",
    "setmy1.add('Jerry')\n",
    "print setmy1 # {7777, 2, 'y', 3, 4, 'Jerry', 'x'}"
   ]
  },
  {
   "cell_type": "code",
   "execution_count": 32,
   "metadata": {
    "collapsed": false
   },
   "outputs": [
    {
     "name": "stdout",
     "output_type": "stream",
     "text": [
      "set(['ud', 'du', 'u', 'd'])\n",
      "set(['uu', 'dd', 'u', 'd'])\n",
      "set(['d', 'uu', 'dd', 'u', 'ud', 'du'])\n",
      "set(['u', 'd'])\n",
      "set(['ud', 'du'])\n",
      "set(['uu', 'dd', 'ud', 'du'])\n"
     ]
    }
   ],
   "source": [
    "s = set(['u','d','ud','du','d','du'])\n",
    "t = set(['d','dd','uu','u'])\n",
    "print s\n",
    "print t\n",
    "\n",
    "print s.union(t) # all of s and t\n",
    "print s.intersection(t) # both in s and t\n",
    "print s.difference(t) # in s but not t\n",
    "print s.symmetric_difference(t) # in either one but not both"
   ]
  },
  {
   "cell_type": "code",
   "execution_count": 38,
   "metadata": {
    "collapsed": false
   },
   "outputs": [
    {
     "name": "stdout",
     "output_type": "stream",
     "text": [
      "1000\n",
      "[9, 5, 8, 9, 9, 2, 0, 10, 4, 7, 5, 10, 4, 3, 7, 5, 1, 0, 10, 1]\n",
      "set([0, 1, 2, 3, 4, 5, 6, 7, 8, 9, 10])\n"
     ]
    }
   ],
   "source": [
    "from random import randint\n",
    "l = [randint(0,10) for i in range(1000)]\n",
    "print len(l)\n",
    "\n",
    "print l[:20]\n",
    "\n",
    "s = set(l)\n",
    "print s  # 集合对象去掉了列表对象中的重复"
   ]
  },
  {
   "cell_type": "markdown",
   "metadata": {},
   "source": [
    "#### 2.4.2 比较"
   ]
  },
  {
   "cell_type": "code",
   "execution_count": 18,
   "metadata": {
    "collapsed": false,
    "scrolled": true
   },
   "outputs": [
    {
     "name": "stdout",
     "output_type": "stream",
     "text": [
      "False\n",
      "False\n",
      "False\n",
      "set(['Humans', 'Orcs'])\n",
      "set(['Undead', 'Hobbits', 'Dwarves', 'Humans', 'Orcs', 'Night Elves', 'Dragons', 'Ents', 'Ainur', 'Elves'])\n",
      "set(['Hobbits', 'Dwarves', 'Dragons', 'Ents', 'Ainur', 'Elves'])\n",
      "set(['Undead', 'Hobbits', 'Dwarves', 'Night Elves', 'Dragons', 'Ents', 'Ainur', 'Elves'])\n",
      "True\n",
      "True\n"
     ]
    }
   ],
   "source": [
    "print test_set==train   #判断是否相等\n",
    "print test_set<train    #判断是否是子集\n",
    "print test_set>train    #判断是否是超集\n",
    "print test_set&train    #求交集\n",
    "print test_set|train    #求并集\n",
    "print train-test_set    #求差集\n",
    "print test_set^train    #求异或\n",
    "\n",
    "print test_set^train == ((train-test_set) | (test_set-train))\n",
    "print test_set^train == (train | test_set) - (train & test_set)"
   ]
  },
  {
   "cell_type": "markdown",
   "metadata": {
    "collapsed": true
   },
   "source": [
    "## 3 类型转换"
   ]
  },
  {
   "cell_type": "code",
   "execution_count": 26,
   "metadata": {
    "collapsed": false
   },
   "outputs": [
    {
     "name": "stdout",
     "output_type": "stream",
     "text": [
      "  整型：int(x)\n",
      "  长整型：long(x)\n",
      "  浮点数：float(x)\n",
      "  复数：complex(x)\n",
      "  字符串：str(x)\n",
      "  列表list(x)\n",
      "  元组：tuple(x)\n",
      "  八进制：hex(x)\n",
      "  十进制：oct(x)\n",
      "  对应的ASC码字符编号：chr(x)\n",
      "  对应的ASC码数字编号：ord(x)\n"
     ]
    }
   ],
   "source": [
    "print '  整型：int(x)' # 整型：int(x)\n",
    "print '  长整型：long(x)' # 长整型：long(x)\n",
    "print '  浮点数：float(x)' # 浮点数：float(x)\n",
    "print '  复数：complex(x)' # 复数：complex(x)\n",
    "print '  字符串：str(x)' # 字符串：str(x)\n",
    "print '  列表list(x)' # 列表list(x)\n",
    "print '  元组：tuple(x)' # 元组：tuple(x)\n",
    "print '  八进制：hex(x)' # hex(x)\n",
    "print '  十进制：oct(x)' # oct(x)\n",
    "print '  对应的ASC码字符编号：chr(x)' # 对应的ASC码字符编号：chr(x)//返如chr(65)返回‘A'\n",
    "print '  对应的ASC码数字编号：ord(x)' # 对应的ASC码数字编号：ord(x)//如ord('A')返回65"
   ]
  }
 ],
 "metadata": {
  "anaconda-cloud": {},
  "kernelspec": {
   "display_name": "Python [conda env:py27]",
   "language": "python",
   "name": "conda-env-py27-py"
  },
  "language_info": {
   "codemirror_mode": {
    "name": "ipython",
    "version": 2
   },
   "file_extension": ".py",
   "mimetype": "text/x-python",
   "name": "python",
   "nbconvert_exporter": "python",
   "pygments_lexer": "ipython2",
   "version": "2.7.12"
  }
 },
 "nbformat": 4,
 "nbformat_minor": 1
}
