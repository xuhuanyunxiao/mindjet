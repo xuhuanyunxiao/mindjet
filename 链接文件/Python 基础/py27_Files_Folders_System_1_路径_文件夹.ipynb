{
 "cells": [
  {
   "cell_type": "markdown",
   "metadata": {
    "collapsed": true
   },
   "source": [
    "# 路径、文件夹、文件"
   ]
  },
  {
   "cell_type": "code",
   "execution_count": 2,
   "metadata": {
    "collapsed": false
   },
   "outputs": [],
   "source": [
    "# help(os.mknod)"
   ]
  },
  {
   "cell_type": "code",
   "execution_count": 92,
   "metadata": {
    "collapsed": false
   },
   "outputs": [
    {
     "name": "stdout",
     "output_type": "stream",
     "text": [
      "['__call__', '__class__', '__closure__', '__code__', '__defaults__', '__delattr__', '__dict__', '__doc__', '__format__', '__get__', '__getattribute__', '__globals__', '__hash__', '__init__', '__module__', '__name__', '__new__', '__reduce__', '__reduce_ex__', '__repr__', '__setattr__', '__sizeof__', '__str__', '__subclasshook__', 'func_closure', 'func_code', 'func_defaults', 'func_dict', 'func_doc', 'func_globals', 'func_name']\n"
     ]
    }
   ],
   "source": [
    "print dir(os.path.abspath)"
   ]
  },
  {
   "cell_type": "code",
   "execution_count": 39,
   "metadata": {
    "collapsed": false
   },
   "outputs": [
    {
     "data": {
      "text/plain": [
       "'Return the absolute version of a path.'"
      ]
     },
     "execution_count": 39,
     "metadata": {},
     "output_type": "execute_result"
    }
   ],
   "source": [
    "os.path.abspath.__doc__"
   ]
  },
  {
   "cell_type": "markdown",
   "metadata": {},
   "source": [
    "## 一、路径"
   ]
  },
  {
   "cell_type": "code",
   "execution_count": 88,
   "metadata": {
    "collapsed": false
   },
   "outputs": [
    {
     "name": "stdout",
     "output_type": "stream",
     "text": [
      "['F_OK', 'O_APPEND', 'O_BINARY', 'O_CREAT', 'O_EXCL', 'O_NOINHERIT', 'O_RANDOM', 'O_RDONLY', 'O_RDWR', 'O_SEQUENTIAL', 'O_SHORT_LIVED', 'O_TEMPORARY', 'O_TEXT', 'O_TRUNC', 'O_WRONLY', 'P_DETACH', 'P_NOWAIT', 'P_NOWAITO', 'P_OVERLAY', 'P_WAIT', 'R_OK', 'SEEK_CUR', 'SEEK_END', 'SEEK_SET', 'TMP_MAX', 'UserDict', 'W_OK', 'X_OK', '_Environ', '__all__', '__builtins__', '__doc__', '__file__', '__name__', '__package__', '_copy_reg', '_execvpe', '_exists', '_exit', '_get_exports_list', '_make_stat_result', '_make_statvfs_result', '_pickle_stat_result', '_pickle_statvfs_result', 'abort', 'access', 'altsep', 'chdir', 'chmod', 'close', 'closerange', 'curdir', 'defpath', 'devnull', 'dup', 'dup2', 'environ', 'errno', 'error', 'execl', 'execle', 'execlp', 'execlpe', 'execv', 'execve', 'execvp', 'execvpe', 'extsep', 'fdopen', 'fstat', 'fsync', 'getcwd', 'getcwdu', 'getenv', 'getpid', 'isatty', 'kill', 'linesep', 'listdir', 'lseek', 'lstat', 'makedirs', 'mkdir', 'name', 'open', 'pardir', 'path', 'pathsep', 'pipe', 'popen', 'popen2', 'popen3', 'popen4', 'putenv', 'read', 'remove', 'removedirs', 'rename', 'renames', 'rmdir', 'sep', 'spawnl', 'spawnle', 'spawnv', 'spawnve', 'startfile', 'stat', 'stat_float_times', 'stat_result', 'statvfs_result', 'strerror', 'sys', 'system', 'tempnam', 'times', 'tmpfile', 'tmpnam', 'umask', 'unlink', 'unsetenv', 'urandom', 'utime', 'waitpid', 'walk', 'write']\n"
     ]
    }
   ],
   "source": [
    "import os\n",
    "print dir(os)"
   ]
  },
  {
   "cell_type": "markdown",
   "metadata": {},
   "source": [
    "### 还未用到"
   ]
  },
  {
   "cell_type": "code",
   "execution_count": null,
   "metadata": {
    "collapsed": true
   },
   "outputs": [],
   "source": [
    "os.system() # 运行shell命令\n",
    "os.getenv() # 读取环境变量 \n",
    "os.putenv() # 设置环境变量\n",
    "os.linesep # 给出当前平台使用的行终止符   Windows使用'\\r\\n'，Linux使用'\\n'而Mac使用'\\r'\n",
    "os.name # 指示你正在使用的平台     对于Windows，它是'nt'，而对于Linux/Unix用户，它是'posix'\n",
    "os.exit() # 终止当前进程\n",
    "os.path.normpath(path)    # 规范path字符串形式\n",
    "os.walk()"
   ]
  },
  {
   "cell_type": "markdown",
   "metadata": {},
   "source": [
    "### 1 常用于文件夹及文件操作"
   ]
  },
  {
   "cell_type": "code",
   "execution_count": 93,
   "metadata": {
    "collapsed": false
   },
   "outputs": [
    {
     "name": "stdout",
     "output_type": "stream",
     "text": [
      "C:\\Users\\yishikeji-01\\Desktop\\Python_Folder\n",
      "C:\\Users\\yishikeji-01\\Desktop\\Python_Folder\n",
      ".\n"
     ]
    }
   ],
   "source": [
    "# os.root() # 设定当前进程的根目录\n",
    "print os.getcwd() # 当前工作目录\n",
    "os.chdir('C:\\Users\\yishikeji-01\\Desktop\\Python_Folder') # 改变工作目录到dirname\n",
    "print os.getcwd()\n",
    "print os.curdir # 返回当前工作目录"
   ]
  },
  {
   "cell_type": "code",
   "execution_count": 61,
   "metadata": {
    "collapsed": false
   },
   "outputs": [
    {
     "name": "stdout",
     "output_type": "stream",
     "text": [
      "D:\\software\\Anaconda3\\envs\\py27\\lib\\os.pyc\n",
      "D:\\software\\Anaconda3\\envs\\py27\\lib\n",
      "os.pyc\n",
      "D:\\software\\Anaconda3\\envs\\py27\\lib\\os.pyc\n",
      "D:\\software\\Anaconda3\\envs\\py27\\lib\\os.pyc\n"
     ]
    }
   ],
   "source": [
    "print os.__file__\n",
    "print os.path.dirname(os.__file__) # 获取路径名\n",
    "print os.path.basename(os.__file__) # 获取文件名\n",
    "print os.path.abspath(os.__file__) # 获得绝对路径\n",
    "print os.path.realpath(os.__file__) #  获取相对路径"
   ]
  },
  {
   "cell_type": "code",
   "execution_count": 62,
   "metadata": {
    "collapsed": false
   },
   "outputs": [
    {
     "name": "stdout",
     "output_type": "stream",
     "text": [
      "['.nonadmin', 'conda-meta', 'DLLs', 'Doc', 'include', 'Lib', 'Library', 'libs', 'Menu', 'msvcm90.dll', 'msvcp90.dll', 'msvcr90.dll', 'python.exe', 'python.pdb', 'python27.dll', 'python27.pdb', 'pythonw.exe', 'pythonw.pdb', 'qt.conf', 'Scripts', 'share', 'sip', 'tcl', 'Tools', 'vcomp90.dll', 'w9xpopen.exe']\n",
      "('D:\\\\software\\\\Anaconda3\\\\envs\\\\py27', 'lib')\n",
      "('D:\\\\software\\\\Anaconda3\\\\envs\\\\py27\\\\lib', 'os.pyc')\n",
      "('D:\\\\software\\\\Anaconda3\\\\envs\\\\py27\\\\lib\\\\os', '.pyc')\n",
      "('D:', '\\\\software\\\\Anaconda3\\\\envs\\\\py27\\\\lib\\\\os.pyc')\n",
      "D:\\software\\Anaconda3\\envs\\py27\\lib\\os.pyc\n"
     ]
    }
   ],
   "source": [
    "print os.listdir('D:\\software\\Anaconda3\\envs\\py27') # 列出指定目录下的所有文件名和目录名\n",
    "print os.path.split('D:\\software\\Anaconda3\\envs\\py27\\lib') # 分离目录名\n",
    "print os.path.split('D:\\software\\Anaconda3\\envs\\py27\\lib\\os.pyc') # 分离文件名 \n",
    "print os.path.splitext('D:\\software\\Anaconda3\\envs\\py27\\lib\\os.pyc') # 分离扩展名\n",
    "print os.path.splitdrive('D:\\software\\Anaconda3\\envs\\py27\\lib\\os.pyc')  #分离磁盘驱动器\n",
    "print os.path.join(\"D:\\software\\Anaconda3\\envs\\py27\\lib\",\"os.pyc\")  # 连接目录与文件名或目录"
   ]
  },
  {
   "cell_type": "code",
   "execution_count": 32,
   "metadata": {
    "collapsed": false
   },
   "outputs": [
    {
     "name": "stdout",
     "output_type": "stream",
     "text": [
      "True\n",
      "True\n",
      "True\n",
      "True\n"
     ]
    },
    {
     "data": {
      "text/plain": [
       "False"
      ]
     },
     "execution_count": 32,
     "metadata": {},
     "output_type": "execute_result"
    }
   ],
   "source": [
    "print os.path.exists('D:\\software\\Anaconda3\\envs\\py27\\lib') # 检验给出的路径是否真地存在\n",
    "print os.path.isfile('D:\\software\\Anaconda3\\envs\\py27\\lib\\os.pyc') # 检验给出的路径是否是一个文件\n",
    "print os.path.isdir('D:\\software\\Anaconda3\\envs\\py27\\lib') # 检验给出的路径是否是一个目录\n",
    "print os.path.isabs('D:\\software\\Anaconda3\\envs\\py27\\lib') # 判断是否是绝对路径\n",
    "os.path.islink('D:\\software\\Anaconda3\\envs\\py27\\lib\\os.pyc') # 判断nama是不是一个链接文件\n",
    "os.path.ismount() # 挂载点\n",
    "os.path.samefile() # 两个路径是否指向了同一个文件"
   ]
  },
  {
   "cell_type": "code",
   "execution_count": 64,
   "metadata": {
    "collapsed": false
   },
   "outputs": [
    {
     "name": "stdout",
     "output_type": "stream",
     "text": [
      "1467216465.0\n",
      "1467216465.0\n",
      "1477547633.09\n"
     ]
    }
   ],
   "source": [
    "print os.path.getatime('D:\\software\\Anaconda3\\envs\\py27\\lib\\os.pyc')  #最后访问时间\n",
    "print os.path.getmtime('D:\\software\\Anaconda3\\envs\\py27\\lib\\os.pyc') #最后修改路径时间\n",
    "print os.path.getctime('D:\\software\\Anaconda3\\envs\\py27\\lib\\os.pyc')  #创建时间"
   ]
  },
  {
   "cell_type": "markdown",
   "metadata": {},
   "source": [
    "## 二、文件夹"
   ]
  },
  {
   "cell_type": "code",
   "execution_count": 89,
   "metadata": {
    "collapsed": false
   },
   "outputs": [
    {
     "name": "stdout",
     "output_type": "stream",
     "text": [
      "['Error', 'ExecError', 'SpecialFileError', '_ARCHIVE_FORMATS', '__all__', '__builtins__', '__doc__', '__file__', '__name__', '__package__', '_basename', '_call_external_zip', '_destinsrc', '_get_gid', '_get_uid', '_make_tarball', '_make_zipfile', '_samefile', 'abspath', 'collections', 'copy', 'copy2', 'copyfile', 'copyfileobj', 'copymode', 'copystat', 'copytree', 'errno', 'fnmatch', 'get_archive_formats', 'getgrnam', 'getpwnam', 'ignore_patterns', 'make_archive', 'move', 'os', 'register_archive_format', 'rmtree', 'stat', 'sys', 'unregister_archive_format']\n"
     ]
    }
   ],
   "source": [
    "import shutil\n",
    "print dir(shutil)"
   ]
  },
  {
   "cell_type": "markdown",
   "metadata": {},
   "source": [
    "### 还未用到"
   ]
  },
  {
   "cell_type": "code",
   "execution_count": null,
   "metadata": {
    "collapsed": true
   },
   "outputs": [],
   "source": [
    "shutil.copyfile( src, dst) \n",
    "# 从源src复制到dst中去。当然前提是目标地址是具备可写权限。抛出的异常信息为IOException. 如果当前的dst已存在的话就会被覆盖掉\n",
    "shutil.copymode( src, dst) # 只是会复制其权限其他的东西是不会被复制的\n",
    "shutil.copystat( src, dst) # 复制权限、最后访问时间、最后修改时间\n",
    "shutil.copy( src, dst)  # 复制一个文件到一个文件或一个目录\n",
    "shutil.copy2( src, dst)  # 在copy上的基础上再复制文件最后访问时间与修改时间也复制过来了，类似于cp –p的东西\n",
    "shutil.copy2( src, dst)  # 如果两个位置的文件系统是一样的话相当于是rename操作，只是改名；如果是不在相同的文件系统的话就是做move操作"
   ]
  },
  {
   "cell_type": "markdown",
   "metadata": {},
   "source": [
    "### 1 新建与删除"
   ]
  },
  {
   "cell_type": "code",
   "execution_count": 90,
   "metadata": {
    "collapsed": false
   },
   "outputs": [
    {
     "name": "stdout",
     "output_type": "stream",
     "text": [
      "C:\\Users\\yishikeji-01\\Desktop\\Python_Folder\n"
     ]
    }
   ],
   "source": [
    "import os\n",
    "import shutil\n",
    "\n",
    "os.chdir('C:\\Users\\yishikeji-01\\Desktop\\Python_Folder') # 改变工作目录到dirname\n",
    "print os.getcwd()"
   ]
  },
  {
   "cell_type": "code",
   "execution_count": 123,
   "metadata": {
    "collapsed": false
   },
   "outputs": [],
   "source": [
    "if not os.path.exists(\"python27\"):\n",
    "    os.mkdir(\"python27\")   # 创建单个目录 \n",
    "    \n",
    "if not os.path.exists(\"python26\"):\n",
    "    os.makedirs(r'python26\\test') # 创建多级目录 \n",
    "    \n",
    "if not os.path.exists(\"python25\"):\n",
    "    os.makedirs(r'python25\\nofile') # 创建多级目录"
   ]
  },
  {
   "cell_type": "code",
   "execution_count": 108,
   "metadata": {
    "collapsed": false
   },
   "outputs": [],
   "source": [
    "if os.path.exists(\"python27\"):\n",
    "    os.rmdir(\"python27\") # 只能删除空目录\n",
    "    \n",
    "if os.path.exists(\"python26\"):\n",
    "    os.removedirs(r'python26\\test') # 删除多个目录\n",
    "    \n",
    "if os.path.exists(\"python25\"):\n",
    "    shutil.rmtree(\"python25\") # 空目录、有内容的目录都可以删 。  递归删除一个目录以及目录内的所有内容"
   ]
  },
  {
   "cell_type": "markdown",
   "metadata": {
    "collapsed": true
   },
   "source": [
    "### 2 改名、复制、移动"
   ]
  },
  {
   "cell_type": "code",
   "execution_count": 124,
   "metadata": {
    "collapsed": false
   },
   "outputs": [],
   "source": [
    "if os.path.exists(\"python26\"):\n",
    "    os.rename(\"python26\",\"python21\") # os.rename(\"oldname\",\"newname\") \n",
    "    # 重命名文件（目录）：文件或目录都是使用这条命令 \n",
    "    \n",
    "if os.path.exists(\"python21\"):\n",
    "    shutil.copytree(\"python21\",\"python22\") \n",
    "    # shutil.copytree('olddir', 'newdir', ignore=shutil.ignore_patterns('*.pyc', 'tmp*'))\n",
    "    # 把olddir拷贝一份newdir：olddir和newdir都只能是目录，且newdir必须不存在\n",
    "    # 递归的去拷贝文件夹。相当于在原目录下，将文件夹复制之后重命名\n",
    "    # 如果第3个参数是True，则复制目录时将保持文件夹下的符号连接，\n",
    "    # 如果第3个参数是False，则将在复制的目录下生成物理副本来替代符号连接\n",
    "    \n",
    "if os.path.exists(\"python21\"):\n",
    "    shutil.move(\"python21\",\"python20\") # shutil.move(\"oldpos\",\"newpos\") \n",
    "    # 相当于在原目录下，将文件夹直接重命名"
   ]
  }
 ],
 "metadata": {
  "anaconda-cloud": {},
  "kernelspec": {
   "display_name": "Python [conda env:py27]",
   "language": "python",
   "name": "conda-env-py27-py"
  },
  "language_info": {
   "codemirror_mode": {
    "name": "ipython",
    "version": 2
   },
   "file_extension": ".py",
   "mimetype": "text/x-python",
   "name": "python",
   "nbconvert_exporter": "python",
   "pygments_lexer": "ipython2",
   "version": "2.7.12"
  }
 },
 "nbformat": 4,
 "nbformat_minor": 1
}
