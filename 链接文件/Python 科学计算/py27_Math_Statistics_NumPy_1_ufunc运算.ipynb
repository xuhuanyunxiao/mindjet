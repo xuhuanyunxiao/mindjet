{
 "cells": [
  {
   "cell_type": "markdown",
   "metadata": {
    "collapsed": true
   },
   "source": [
    "\n",
    "- 列是第1轴，行是第0轴"
   ]
  },
  {
   "cell_type": "markdown",
   "metadata": {},
   "source": [
    "# NumPy\n",
    "- python 科学计算 第二章"
   ]
  },
  {
   "cell_type": "code",
   "execution_count": 1,
   "metadata": {
    "collapsed": false
   },
   "outputs": [
    {
     "name": "stdout",
     "output_type": "stream",
     "text": [
      "['ALLOW_THREADS', 'BUFSIZE', 'CLIP', 'ComplexWarning', 'DataSource', 'ERR_CALL', 'ERR_DEFAULT', 'ERR_IGNORE', 'ERR_LOG', 'ERR_PRINT', 'ERR_RAISE', 'ERR_WARN', 'FLOATING_POINT_SUPPORT', 'FPE_DIVIDEBYZERO', 'FPE_INVALID', 'FPE_OVERFLOW', 'FPE_UNDERFLOW', 'False_', 'Inf', 'Infinity', 'MAXDIMS', 'MAY_SHARE_BOUNDS', 'MAY_SHARE_EXACT', 'MachAr', 'ModuleDeprecationWarning', 'NAN', 'NINF', 'NZERO', 'NaN', 'PINF', 'PZERO', 'PackageLoader', 'RAISE', 'RankWarning', 'SHIFT_DIVIDEBYZERO', 'SHIFT_INVALID', 'SHIFT_OVERFLOW', 'SHIFT_UNDERFLOW', 'ScalarType', 'Tester', 'TooHardError', 'True_', 'UFUNC_BUFSIZE_DEFAULT', 'UFUNC_PYVALS_NAME', 'VisibleDeprecationWarning', 'WRAP', '_NoValue', '__NUMPY_SETUP__', '__all__', '__builtins__', '__config__', '__doc__', '__file__', '__git_revision__', '__mkl_version__', '__name__', '__package__', '__path__', '__version__', '_globals', '_import_tools', '_mat', 'abs', 'absolute', 'absolute_import', 'add', 'add_docstring', 'add_newdoc', 'add_newdoc_ufunc', 'add_newdocs', 'alen', 'all', 'allclose', 'alltrue', 'alterdot', 'amax', 'amin', 'angle', 'any', 'append', 'apply_along_axis', 'apply_over_axes', 'arange', 'arccos', 'arccosh', 'arcsin', 'arcsinh', 'arctan', 'arctan2', 'arctanh', 'argmax', 'argmin', 'argpartition', 'argsort', 'argwhere', 'around', 'array', 'array2string', 'array_equal', 'array_equiv', 'array_repr', 'array_split', 'array_str', 'asanyarray', 'asarray', 'asarray_chkfinite', 'ascontiguousarray', 'asfarray', 'asfortranarray', 'asmatrix', 'asscalar', 'atleast_1d', 'atleast_2d', 'atleast_3d', 'average', 'bartlett', 'base_repr', 'bench', 'binary_repr', 'bincount', 'bitwise_and', 'bitwise_not', 'bitwise_or', 'bitwise_xor', 'blackman', 'bmat', 'bool', 'bool8', 'bool_', 'broadcast', 'broadcast_arrays', 'broadcast_to', 'busday_count', 'busday_offset', 'busdaycalendar', 'byte', 'byte_bounds', 'bytes_', 'c_', 'can_cast', 'cast', 'cbrt', 'cdouble', 'ceil', 'cfloat', 'char', 'character', 'chararray', 'choose', 'clip', 'clongdouble', 'clongfloat', 'column_stack', 'common_type', 'compare_chararrays', 'compat', 'complex', 'complex128', 'complex64', 'complex_', 'complexfloating', 'compress', 'concatenate', 'conj', 'conjugate', 'convolve', 'copy', 'copysign', 'copyto', 'core', 'corrcoef', 'correlate', 'cos', 'cosh', 'count_nonzero', 'cov', 'cross', 'csingle', 'ctypeslib', 'cumprod', 'cumproduct', 'cumsum', 'datetime64', 'datetime_as_string', 'datetime_data', 'deg2rad', 'degrees', 'delete', 'deprecate', 'deprecate_with_doc', 'diag', 'diag_indices', 'diag_indices_from', 'diagflat', 'diagonal', 'diff', 'digitize', 'disp', 'divide', 'division', 'dot', 'double', 'dsplit', 'dstack', 'dtype', 'e', 'ediff1d', 'einsum', 'emath', 'empty', 'empty_like', 'equal', 'errstate', 'euler_gamma', 'exp', 'exp2', 'expand_dims', 'expm1', 'extract', 'eye', 'fabs', 'fastCopyAndTranspose', 'fft', 'fill_diagonal', 'find_common_type', 'finfo', 'fix', 'flatiter', 'flatnonzero', 'flexible', 'fliplr', 'flipud', 'float', 'float16', 'float32', 'float64', 'float_', 'floating', 'floor', 'floor_divide', 'fmax', 'fmin', 'fmod', 'format_parser', 'frexp', 'frombuffer', 'fromfile', 'fromfunction', 'fromiter', 'frompyfunc', 'fromregex', 'fromstring', 'full', 'full_like', 'fv', 'generic', 'genfromtxt', 'get_array_wrap', 'get_include', 'get_printoptions', 'getbuffer', 'getbufsize', 'geterr', 'geterrcall', 'geterrobj', 'gradient', 'greater', 'greater_equal', 'half', 'hamming', 'hanning', 'histogram', 'histogram2d', 'histogramdd', 'hsplit', 'hstack', 'hypot', 'i0', 'identity', 'iinfo', 'imag', 'in1d', 'index_exp', 'indices', 'inexact', 'inf', 'info', 'infty', 'inner', 'insert', 'int', 'int0', 'int16', 'int32', 'int64', 'int8', 'int_', 'int_asbuffer', 'intc', 'integer', 'interp', 'intersect1d', 'intp', 'invert', 'ipmt', 'irr', 'is_busday', 'isclose', 'iscomplex', 'iscomplexobj', 'isfinite', 'isfortran', 'isinf', 'isnan', 'isneginf', 'isposinf', 'isreal', 'isrealobj', 'isscalar', 'issctype', 'issubclass_', 'issubdtype', 'issubsctype', 'iterable', 'ix_', 'kaiser', 'kron', 'ldexp', 'left_shift', 'less', 'less_equal', 'lexsort', 'lib', 'linalg', 'linspace', 'little_endian', 'load', 'loads', 'loadtxt', 'log', 'log10', 'log1p', 'log2', 'logaddexp', 'logaddexp2', 'logical_and', 'logical_not', 'logical_or', 'logical_xor', 'logspace', 'long', 'longcomplex', 'longdouble', 'longfloat', 'longlong', 'lookfor', 'ma', 'mafromtxt', 'mask_indices', 'mat', 'math', 'matmul', 'matrix', 'matrixlib', 'max', 'maximum', 'maximum_sctype', 'may_share_memory', 'mean', 'median', 'memmap', 'meshgrid', 'mgrid', 'min', 'min_scalar_type', 'minimum', 'mintypecode', 'mirr', 'mod', 'modf', 'moveaxis', 'msort', 'multiply', 'nan', 'nan_to_num', 'nanargmax', 'nanargmin', 'nanmax', 'nanmean', 'nanmedian', 'nanmin', 'nanpercentile', 'nanprod', 'nanstd', 'nansum', 'nanvar', 'nbytes', 'ndarray', 'ndenumerate', 'ndfromtxt', 'ndim', 'ndindex', 'nditer', 'negative', 'nested_iters', 'newaxis', 'newbuffer', 'nextafter', 'nonzero', 'not_equal', 'nper', 'npv', 'numarray', 'number', 'obj2sctype', 'object', 'object0', 'object_', 'ogrid', 'oldnumeric', 'ones', 'ones_like', 'outer', 'packbits', 'pad', 'partition', 'percentile', 'pi', 'piecewise', 'pkgload', 'place', 'pmt', 'poly', 'poly1d', 'polyadd', 'polyder', 'polydiv', 'polyfit', 'polyint', 'polymul', 'polynomial', 'polysub', 'polyval', 'power', 'ppmt', 'print_function', 'prod', 'product', 'promote_types', 'ptp', 'put', 'putmask', 'pv', 'r_', 'rad2deg', 'radians', 'random', 'rank', 'rate', 'ravel', 'ravel_multi_index', 'real', 'real_if_close', 'rec', 'recarray', 'recfromcsv', 'recfromtxt', 'reciprocal', 'record', 'remainder', 'repeat', 'require', 'reshape', 'resize', 'restoredot', 'result_type', 'right_shift', 'rint', 'roll', 'rollaxis', 'roots', 'rot90', 'round', 'round_', 'row_stack', 's_', 'safe_eval', 'save', 'savetxt', 'savez', 'savez_compressed', 'sctype2char', 'sctypeDict', 'sctypeNA', 'sctypes', 'searchsorted', 'select', 'set_numeric_ops', 'set_printoptions', 'set_string_function', 'setbufsize', 'setdiff1d', 'seterr', 'seterrcall', 'seterrobj', 'setxor1d', 'shape', 'shares_memory', 'short', 'show_config', 'sign', 'signbit', 'signedinteger', 'sin', 'sinc', 'single', 'singlecomplex', 'sinh', 'size', 'sometrue', 'sort', 'sort_complex', 'source', 'spacing', 'split', 'sqrt', 'square', 'squeeze', 'stack', 'std', 'str', 'str_', 'string0', 'string_', 'subtract', 'sum', 'swapaxes', 'sys', 'take', 'tan', 'tanh', 'tensordot', 'test', 'testing', 'tile', 'timedelta64', 'trace', 'transpose', 'trapz', 'tri', 'tril', 'tril_indices', 'tril_indices_from', 'trim_zeros', 'triu', 'triu_indices', 'triu_indices_from', 'true_divide', 'trunc', 'typeDict', 'typeNA', 'typecodes', 'typename', 'ubyte', 'ufunc', 'uint', 'uint0', 'uint16', 'uint32', 'uint64', 'uint8', 'uintc', 'uintp', 'ulonglong', 'unicode', 'unicode0', 'unicode_', 'union1d', 'unique', 'unpackbits', 'unravel_index', 'unsignedinteger', 'unwrap', 'ushort', 'vander', 'var', 'vdot', 'vectorize', 'version', 'void', 'void0', 'vsplit', 'vstack', 'warnings', 'where', 'who', 'zeros', 'zeros_like']\n"
     ]
    }
   ],
   "source": [
    "import numpy as np\n",
    "print dir(np)"
   ]
  },
  {
   "cell_type": "markdown",
   "metadata": {},
   "source": [
    "## 一、ufunc 运算\n",
    "- ufunc是universal function的缩写，它是一种能对数组中每个元素进行操作的函数\n",
    "- python 科学计算 http://hyry.dip.jp/tech/book/page/scipy/numpy_ufunc.html"
   ]
  },
  {
   "cell_type": "markdown",
   "metadata": {},
   "source": [
    "- 对于单个元素，math库里的函数计算速度快得多\n",
    "- 而对于数组元素，则采用numpy库里的函数计算。"
   ]
  },
  {
   "cell_type": "code",
   "execution_count": 2,
   "metadata": {
    "collapsed": false
   },
   "outputs": [
    {
     "name": "stdout",
     "output_type": "stream",
     "text": [
      "<type 'float'>\n",
      "<type 'numpy.float64'>\n"
     ]
    }
   ],
   "source": [
    "import math\n",
    "import numpy as np\n",
    "\n",
    "print type(math.sin(10))  # 结果类型不一样\n",
    "print type(np.sin(10))"
   ]
  },
  {
   "cell_type": "code",
   "execution_count": 4,
   "metadata": {
    "collapsed": false
   },
   "outputs": [
    {
     "name": "stdout",
     "output_type": "stream",
     "text": [
      "<type 'int'>\n",
      "<type 'numpy.int32'>\n"
     ]
    }
   ],
   "source": [
    "# item() 方法，获取数组中单个元素，并返回标准的Python数值类型\n",
    "a = np.arange(6).reshape(2,3)\n",
    "b = a.item(1,2) # 和 a[1,2] 类似\n",
    "print type(b)  # Python 数值类型\n",
    "print type(a[1,2]) # numpy中定义的类型"
   ]
  },
  {
   "cell_type": "markdown",
   "metadata": {},
   "source": [
    "### 1 基本运算"
   ]
  },
  {
   "cell_type": "markdown",
   "metadata": {},
   "source": [
    "#### 1.1 数组运算符及其对应的 ufunc函数\n",
    "\n",
    "> * y = x1 + x2 |\tadd(x1, x2 [, y])\n",
    "> * y = x1 - x2 |\t\tsubtract(x1, x2 [, y])\n",
    "> * y = x1 * x2 |\t\tmultiply (x1, x2 [, y])\n",
    "> * y = x1 / x2 |\t\tdivide (x1, x2 [, y]), 如果两个数组的元素为整数，那么用整数除法\n",
    "> * y = x1 / x2 |\t\ttrue_divide (x1, x2 [, y]), 总是返回精确的商\n",
    "> * y = x1 // x2 |\t\tfloor_divide (x1, x2 [, y]), 总是对返回值取整\n",
    "> * y = -x |\t\tnegative(x [,y])\n",
    "> * y = x1**x2 |\t\tpower(x1, x2 [, y])\n",
    "> * y = x1 % x2 |\t\tremainder(x1, x2 [, y]), 或mod(x1, x2, [, y])\n",
    "\n",
    "\n",
    " + ** 注意：**\n",
    " > 除号‘/’的意义根据是否激活 \\__future\\__.division 会有所不同"
   ]
  },
  {
   "cell_type": "markdown",
   "metadata": {
    "collapsed": true
   },
   "source": [
    "- NumPy为数组定义了各种数学运算操作符，因此计算两个数组相加可以简单地写为a+b，而np.add(a,b,a)则可以用a+=b表示"
   ]
  },
  {
   "cell_type": "code",
   "execution_count": 3,
   "metadata": {
    "collapsed": false
   },
   "outputs": [
    {
     "name": "stdout",
     "output_type": "stream",
     "text": [
      "[0 1 2 3]\n",
      "[1 2 3 4]\n",
      "[1 3 5 7]\n",
      "[1 3 5 7]\n",
      "[1 3 5 7]\n"
     ]
    }
   ],
   "source": [
    "a = np.arange(0,4)\n",
    "b = np.arange(1,5)\n",
    "print a\n",
    "print b\n",
    "\n",
    "c = np.add(a,b)  # 两个参数对应元素之后\n",
    "print c\n",
    "\n",
    "d = np.add(a,b,a) # 第三个参数为out，即指定结果保存位置\n",
    "print d\n",
    "print a"
   ]
  },
  {
   "cell_type": "markdown",
   "metadata": {
    "collapsed": true
   },
   "source": [
    "- 数组对象支持操作符，极大地简化了算式的编写，不过要注意如果算式很复杂，并且要运算的数组很大，将会因为产生大量的中间结果从而降低程序的运算效率。\n",
    "- 例如：假设对a、b、c三个数组采用算式“x=a*b+c”计算，那么它相当于：\n",
    "> * t = a * b\n",
    "> * x = t + c\n",
    "> * del t\n",
    "- 也就是说需要产生一个临时数组t保存乘法的运算结果，然后再产生最后的结果数组x。\n",
    "- 我们可以将算式分解为下面的两行语句，以减少一次内存分配：\n",
    "> * x = a*b\n",
    "> * x += c"
   ]
  },
  {
   "cell_type": "code",
   "execution_count": 6,
   "metadata": {
    "collapsed": false
   },
   "outputs": [
    {
     "name": "stdout",
     "output_type": "stream",
     "text": [
      "[0.5, 0.75, 1.0, 1.5, 2.0]\n"
     ]
    },
    {
     "data": {
      "text/plain": [
       "[[0.5, 0.75, 1.0, 1.5, 2.0],\n",
       " [0.5, 0.75, 1.0, 1.5, 2.0],\n",
       " [0.5, 0.75, 1.0, 1.5, 2.0]]"
      ]
     },
     "execution_count": 6,
     "metadata": {},
     "output_type": "execute_result"
    }
   ],
   "source": [
    "v = [0.5,0.75,1.0,1.5,2.0]\n",
    "m = [v,v,v] # matrix of numbers\n",
    "\n",
    "print v\n",
    "m"
   ]
  },
  {
   "cell_type": "code",
   "execution_count": null,
   "metadata": {
    "collapsed": true
   },
   "outputs": [],
   "source": []
  },
  {
   "cell_type": "markdown",
   "metadata": {
    "collapsed": true
   },
   "source": [
    "### 1.2 比较和布尔运算\n",
    "\n",
    "> * y = x1 == x2 |\t\tequal(x1, x2 [, y])\n",
    "> * y = x1 != x2 |\t\tnot_equal(x1, x2 [, y])\n",
    "> * y = x1 < x2  |\t\tless(x1, x2, [, y])\n",
    "> * y = x1 <= x2 |\t\tless_equal(x1, x2, [, y])\n",
    "> * y = x1 > x2\t |\tgreater(x1, x2, [, y])\n",
    "> * y = x1 >= x2 |\t\tgreater_equal(x1, x2, [, y])"
   ]
  },
  {
   "cell_type": "markdown",
   "metadata": {
    "collapsed": true
   },
   "source": [
    "- 使用比较运算符（“==”、“>”）对两个数组进行比较，将返回一个布尔数组"
   ]
  },
  {
   "cell_type": "code",
   "execution_count": 6,
   "metadata": {
    "collapsed": false
   },
   "outputs": [
    {
     "name": "stdout",
     "output_type": "stream",
     "text": [
      "[ True False False]\n"
     ]
    }
   ],
   "source": [
    "a = np.array([1,2,3]) < np.array([3,2,1])\n",
    "print a"
   ]
  },
  {
   "cell_type": "markdown",
   "metadata": {
    "collapsed": true
   },
   "source": [
    "- 由于Python中的布尔运算使用and、or和not等关键字，它们无法被重载，因此数组的布尔运算只能通过相应的ufunc函数进行。\n",
    " + 这些函数名都以“logical_”开头\n",
    " > * np.logical_and、np.logical_not、np.logical_or、np.logical_xor"
   ]
  },
  {
   "cell_type": "code",
   "execution_count": 8,
   "metadata": {
    "collapsed": false
   },
   "outputs": [
    {
     "name": "stdout",
     "output_type": "stream",
     "text": [
      "[0 1 2 3 4]\n",
      "[4 3 2 1 0]\n",
      "[False False  True False False]\n",
      "[False False False  True  True]\n",
      "[False False  True  True  True]\n"
     ]
    }
   ],
   "source": [
    "a = np.arange(5)\n",
    "b = np.arange(4,-1,-1)\n",
    "c = a == b\n",
    "d = a > b\n",
    "e = np.logical_or(a==b,a>b) # 和 a >= b 相同\n",
    "print a\n",
    "print b\n",
    "print c\n",
    "print d\n",
    "print e"
   ]
  },
  {
   "cell_type": "code",
   "execution_count": 11,
   "metadata": {
    "collapsed": false
   },
   "outputs": [
    {
     "name": "stdout",
     "output_type": "stream",
     "text": [
      "True\n",
      "False\n"
     ]
    }
   ],
   "source": [
    "print np.any(a==b) # 只要数组中有一个值为True，则any()返回True\n",
    "print np.all(a==b) # 只有数组的全部元素都为True，all()才返回True"
   ]
  },
  {
   "cell_type": "markdown",
   "metadata": {
    "collapsed": true
   },
   "source": [
    "— 以“bitwise_”开头的函数是比特运算函数\n",
    "> * 包括bitwise_and、bitwise_not、bitwise_or和bitwise_xor等\n",
    "> * 也可使用操作符，”&”、”~”、”|”和”^”等。\n",
    "\n",
    "- 对于布尔数组来说，比特运算和布尔运算的结果相同。\n",
    "> 在使用时要注意，比特运算符的优先级比比较运算符高，因此需要使用括号提高比较运算的运算优先级。"
   ]
  },
  {
   "cell_type": "code",
   "execution_count": 12,
   "metadata": {
    "collapsed": false
   },
   "outputs": [
    {
     "name": "stdout",
     "output_type": "stream",
     "text": [
      "[False False  True  True  True]\n"
     ]
    }
   ],
   "source": [
    "c = (a==b)|(a > b)\n",
    "print c"
   ]
  },
  {
   "cell_type": "markdown",
   "metadata": {
    "collapsed": true
   },
   "source": [
    "- 整数数组的比特运算和C语言的比特运算相同，在使用时要注意元素类型的符号"
   ]
  },
  {
   "cell_type": "code",
   "execution_count": 13,
   "metadata": {
    "collapsed": false
   },
   "outputs": [
    {
     "name": "stdout",
     "output_type": "stream",
     "text": [
      "[-1 -2 -3 -4 -5]\n",
      "[255 254 253 252 251]\n"
     ]
    }
   ],
   "source": [
    "a = ~np.arange(5) # 2位符号整数，因此对正数按位取反将得到负数\n",
    "b = ~np.arange(5,dtype = np.uint8) # 对8位无符号整数数组进行比特取反运算\n",
    "print a\n",
    "print b"
   ]
  },
  {
   "cell_type": "markdown",
   "metadata": {
    "collapsed": true
   },
   "source": [
    "### 2 自定义 ufunc函数 \n",
    "- 用Python很容易实现对每个元素进行计算的程序，再通过frompyfunc()将程序转换成ufunc函数，就可以方便地用所产生的ufunc函数对数组进行计算了。"
   ]
  },
  {
   "cell_type": "code",
   "execution_count": 16,
   "metadata": {
    "collapsed": true
   },
   "outputs": [],
   "source": [
    "def triangle_wave(x, c, c0, hc):\n",
    "    x = x - int(x) # 三角波的周期为1，因此只取x坐标的小数部分进行计算\n",
    "    if x >= c: r = 0.0\n",
    "    elif x < c0: r = x / c0 * hc\n",
    "    else: r = (c-x) / (c-c0) * hc\n",
    "    return r"
   ]
  },
  {
   "cell_type": "code",
   "execution_count": 19,
   "metadata": {
    "collapsed": true
   },
   "outputs": [],
   "source": [
    "x = np.linspace(0, 2, 1000) # 先使用列表推导式计算出一个列表，然后用array()将列表转换为数组。\n",
    "y1 = np.array([triangle_wave(t, 0.6, 0.4, 1.0) for t in x])"
   ]
  },
  {
   "cell_type": "markdown",
   "metadata": {
    "collapsed": true
   },
   "source": [
    "- frompyfunc()\n",
    "> frompyfunc(func, nin, nout)\n",
    "+ func是计算单个元素的函数，nin是func的输入参数的个数，nout是func的返回值个数"
   ]
  },
  {
   "cell_type": "code",
   "execution_count": 21,
   "metadata": {
    "collapsed": false
   },
   "outputs": [
    {
     "name": "stdout",
     "output_type": "stream",
     "text": [
      "object\n",
      "float64\n"
     ]
    }
   ],
   "source": [
    "triangle_ufunc1 = np.frompyfunc(triangle_wave, 4, 1)\n",
    "y2 = triangle_ufunc1(x, 0.6, 0.4, 1.0)\n",
    "\n",
    "print y2.dtype # 返回的数组的元素类型是object\n",
    "y2 = y2.astype(np.float) # 调用数组的astype()方法将其转换为双精度浮点数组\n",
    "print y2.dtype"
   ]
  },
  {
   "cell_type": "markdown",
   "metadata": {
    "collapsed": true
   },
   "source": [
    "### 3 广播\n",
    "- 要求这两个数组的形状相同。\n",
    "- 如果形状不同，会进行如下的广播(broadcasting)处理：\n",
    "> 1. 让所有输入数组都向其中维数最多的数组看齐，shape属性中不足的部分都通过在前面加1补齐。\n",
    "> 2. 输出数组的shape属性是输入数组的shape属性的各个轴上的最大值。\n",
    "> 3. 如果输入数组的某个轴的长度为1或与输出数组的对应轴的长度相同时，这个数组能够用来计算，否则出错。\n",
    "> 4. 当输入数组的某个轴的长度为1时，沿着此轴运算时都用此轴上的第一组值。"
   ]
  },
  {
   "cell_type": "code",
   "execution_count": 39,
   "metadata": {
    "collapsed": false
   },
   "outputs": [
    {
     "name": "stdout",
     "output_type": "stream",
     "text": [
      "[[ 0]\n",
      " [10]\n",
      " [20]\n",
      " [30]\n",
      " [40]\n",
      " [50]]\n",
      "(6L, 1L)\n",
      "[0 1 2 3 4]\n",
      "(5L,)\n",
      "----------------------\n",
      "[[ 0  1  2  3  4]\n",
      " [10 11 12 13 14]\n",
      " [20 21 22 23 24]\n",
      " [30 31 32 33 34]\n",
      " [40 41 42 43 44]\n",
      " [50 51 52 53 54]]\n",
      "(6L, 5L)\n",
      "----------------------\n",
      "[[0 1 2 3 4]]\n",
      "(1L, 5L)\n",
      "----------------------\n",
      "[[0 1 2 3 4]\n",
      " [0 1 2 3 4]\n",
      " [0 1 2 3 4]\n",
      " [0 1 2 3 4]\n",
      " [0 1 2 3 4]\n",
      " [0 1 2 3 4]]\n",
      "(6L, 5L)\n",
      "[[ 0  0  0  0  0]\n",
      " [10 10 10 10 10]\n",
      " [20 20 20 20 20]\n",
      " [30 30 30 30 30]\n",
      " [40 40 40 40 40]\n",
      " [50 50 50 50 50]]\n",
      "(6L, 5L)\n"
     ]
    }
   ],
   "source": [
    "a = np.arange(0,60,10).reshape(-1,1)\n",
    "b = np.arange(0,5)\n",
    "print a\n",
    "print a.shape\n",
    "print b\n",
    "print b.shape\n",
    "print '----------------------'\n",
    "c = a + b \n",
    "print c\n",
    "print c.shape\n",
    "print '----------------------'\n",
    "b.shape = 1,5 # 规则1\n",
    "print b\n",
    "print b.shape\n",
    "print '----------------------'\n",
    "b = b.repeat(6,axis = 0) # 规则2\n",
    "a = a.repeat(5,axis = 1)\n",
    "print b\n",
    "print b.shape\n",
    "print a\n",
    "print a.shape"
   ]
  },
  {
   "cell_type": "markdown",
   "metadata": {
    "collapsed": true
   },
   "source": [
    "- 由于a和b的维数不同，根据规则1，需要让b的shape属性向a对齐，于是将b的shape属性前面加1，补齐为(1,5)。\n",
    "- 这样加法运算的两个输入数组的shape属性分别为(6,1)和(1,5)，根据规则2，输出数组的各个轴的长度为输入数组各个轴的长度的最大值，可知输出数组的shape属性为(6,5)。\n",
    "\n",
    "- 在执行“a+b”运算时，NumPy内部并不会真正将长度为1的轴用repeat()进行扩展，这样太浪费空间了。\n",
    "- 由于这种广播计算很常用，因此NumPy提供了快速产生能进行广播运算的数组的ogrid对象。"
   ]
  },
  {
   "cell_type": "markdown",
   "metadata": {
    "collapsed": true
   },
   "source": [
    "- ogrid对象 和 mgrid对象"
   ]
  },
  {
   "cell_type": "code",
   "execution_count": 41,
   "metadata": {
    "collapsed": false
   },
   "outputs": [
    {
     "name": "stdout",
     "output_type": "stream",
     "text": [
      "[[0]\n",
      " [1]\n",
      " [2]\n",
      " [3]\n",
      " [4]]\n",
      "[[0 1 2 3 4]]\n",
      "----------------------\n",
      "[[0 0 0 0 0]\n",
      " [1 1 1 1 1]\n",
      " [2 2 2 2 2]\n",
      " [3 3 3 3 3]\n",
      " [4 4 4 4 4]]\n",
      "[[0 1 2 3 4]\n",
      " [0 1 2 3 4]\n",
      " [0 1 2 3 4]\n",
      " [0 1 2 3 4]\n",
      " [0 1 2 3 4]]\n"
     ]
    }
   ],
   "source": [
    "x,y = np.ogrid[:5,:5]\n",
    "a,b = np.mgrid[:5,:5]\n",
    "print x\n",
    "print y\n",
    "print '----------------------'\n",
    "print a\n",
    "print b"
   ]
  },
  {
   "cell_type": "code",
   "execution_count": 43,
   "metadata": {
    "collapsed": false
   },
   "outputs": [
    {
     "name": "stdout",
     "output_type": "stream",
     "text": [
      "[[ 0.        ]\n",
      " [ 0.33333333]\n",
      " [ 0.66666667]\n",
      " [ 1.        ]]\n",
      "----------------------\n",
      "[[ 0.   0.5  1. ]]\n"
     ]
    }
   ],
   "source": [
    "x,y = np.ogrid[:1:4j,:1:3j] # 当第三个参数为虚数时，它表示所返回的数组的长度，和“np.linspace()”类似    4j指有四个数\n",
    "print x\n",
    "print '----------------------'\n",
    "print y"
   ]
  },
  {
   "cell_type": "markdown",
   "metadata": {},
   "source": [
    "- 利用ogrid的返回值，我们能很容易计算二元函数在等间距网格上的值。\n",
    "- 下面是绘制三维曲面f(x,y) = x e^{x^2-y^2}的程序："
   ]
  },
  {
   "cell_type": "code",
   "execution_count": 49,
   "metadata": {
    "collapsed": false
   },
   "outputs": [],
   "source": [
    "import numpy as np\n",
    "from mayavi import mlab\n",
    "\n",
    "x, y = np.ogrid[-2:2:20j, -2:2:20j]\n",
    "z = x * np.exp( - x**2 - y**2)\n",
    "\n",
    "pl = mlab.surf(x, y, z, warp_scale=\"auto\")\n",
    "mlab.axes(xlabel='x', ylabel='y', zlabel='z')\n",
    "mlab.outline(pl)\n",
    "mlab.show()"
   ]
  },
  {
   "cell_type": "markdown",
   "metadata": {},
   "source": [
    "- 如果已经有了多个表示不同轴上的取值的一维数组。\n",
    "- 想计算出它们所构成的网格上的每点的函数值，可以使用ix_()："
   ]
  },
  {
   "cell_type": "code",
   "execution_count": 52,
   "metadata": {
    "collapsed": false
   },
   "outputs": [
    {
     "name": "stdout",
     "output_type": "stream",
     "text": [
      "[ 0  1  4 10]\n",
      "[2 3 8]\n",
      "[[ 0  1  4 10]]\n",
      "[[2]\n",
      " [3]\n",
      " [8]]\n",
      "[[ 2  3  6 12]\n",
      " [ 3  4  7 13]\n",
      " [ 8  9 12 18]]\n"
     ]
    }
   ],
   "source": [
    "x = np.array([0,1,4,10])\n",
    "y = np.array([2,3,8])\n",
    "gy,gx = np.ix_(y,x) # 通过ix_()将数组x和y转换成能进行广播运算的二维数组\n",
    "# 注意数组y对应广播运算结果中的第0轴，而数组x与第1轴对应\n",
    "z = gx + gy\n",
    "print x\n",
    "print y\n",
    "print gx\n",
    "print gy\n",
    "print z"
   ]
  }
 ],
 "metadata": {
  "anaconda-cloud": {},
  "kernelspec": {
   "display_name": "Python [conda env:py27]",
   "language": "python",
   "name": "conda-env-py27-py"
  },
  "language_info": {
   "codemirror_mode": {
    "name": "ipython",
    "version": 2
   },
   "file_extension": ".py",
   "mimetype": "text/x-python",
   "name": "python",
   "nbconvert_exporter": "python",
   "pygments_lexer": "ipython2",
   "version": "2.7.12"
  }
 },
 "nbformat": 4,
 "nbformat_minor": 1
}
